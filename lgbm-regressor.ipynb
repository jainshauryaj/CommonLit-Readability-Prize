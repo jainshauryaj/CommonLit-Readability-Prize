{
 "cells": [
  {
   "cell_type": "code",
   "execution_count": 1,
   "id": "miniature-complement",
   "metadata": {
    "_cell_guid": "b1076dfc-b9ad-4769-8c92-a6c4dae69d19",
    "_uuid": "8f2839f25d086af736a60e9eeb907d3b93b6e0e5",
    "execution": {
     "iopub.execute_input": "2021-06-09T16:57:00.008009Z",
     "iopub.status.busy": "2021-06-09T16:57:00.005836Z",
     "iopub.status.idle": "2021-06-09T16:57:00.036511Z",
     "shell.execute_reply": "2021-06-09T16:57:00.035842Z",
     "shell.execute_reply.started": "2021-06-09T16:31:33.584638Z"
    },
    "papermill": {
     "duration": 0.095329,
     "end_time": "2021-06-09T16:57:00.036662",
     "exception": false,
     "start_time": "2021-06-09T16:56:59.941333",
     "status": "completed"
    },
    "tags": []
   },
   "outputs": [
    {
     "name": "stdout",
     "output_type": "stream",
     "text": [
      "/kaggle/input/textstat/textstat-0.7.1-py3-none-any.whl\n",
      "/kaggle/input/commonlitreadabilityprize/sample_submission.csv\n",
      "/kaggle/input/commonlitreadabilityprize/train.csv\n",
      "/kaggle/input/commonlitreadabilityprize/test.csv\n",
      "/kaggle/input/pyphen/Pyphen-0.10.0-py3-none-any.whl\n"
     ]
    }
   ],
   "source": [
    "# This Python 3 environment comes with many helpful analytics libraries installed\n",
    "# It is defined by the kaggle/python Docker image: https://github.com/kaggle/docker-python\n",
    "# For example, here's several helpful packages to load\n",
    "\n",
    "import numpy as np # linear algebra\n",
    "import pandas as pd # data processing, CSV file I/O (e.g. pd.read_csv)\n",
    "\n",
    "# Input data files are available in the read-only \"../input/\" directory\n",
    "# For example, running this (by clicking run or pressing Shift+Enter) will list all files under the input directory\n",
    "\n",
    "import os\n",
    "for dirname, _, filenames in os.walk('/kaggle/input'):\n",
    "    for filename in filenames:\n",
    "        print(os.path.join(dirname, filename))\n",
    "\n",
    "# You can write up to 20GB to the current directory (/kaggle/working/) that gets preserved as output when you create a version using \"Save & Run All\" \n",
    "# You can also write temporary files to /kaggle/temp/, but they won't be saved outside of the current session"
   ]
  },
  {
   "cell_type": "code",
   "execution_count": 2,
   "id": "unavailable-listing",
   "metadata": {
    "execution": {
     "iopub.execute_input": "2021-06-09T16:57:00.162961Z",
     "iopub.status.busy": "2021-06-09T16:57:00.162114Z",
     "iopub.status.idle": "2021-06-09T16:57:28.730845Z",
     "shell.execute_reply": "2021-06-09T16:57:28.729906Z",
     "shell.execute_reply.started": "2021-06-09T16:31:33.605145Z"
    },
    "papermill": {
     "duration": 28.634205,
     "end_time": "2021-06-09T16:57:28.731002",
     "exception": false,
     "start_time": "2021-06-09T16:57:00.096797",
     "status": "completed"
    },
    "tags": []
   },
   "outputs": [
    {
     "name": "stdout",
     "output_type": "stream",
     "text": [
      "Processing /kaggle/input/pyphen/Pyphen-0.10.0-py3-none-any.whl\r\n",
      "Installing collected packages: Pyphen\r\n",
      "Successfully installed Pyphen-0.10.0\r\n"
     ]
    }
   ],
   "source": [
    "!pip install ../input/pyphen/Pyphen-0.10.0-py3-none-any.whl"
   ]
  },
  {
   "cell_type": "code",
   "execution_count": 3,
   "id": "incident-season",
   "metadata": {
    "execution": {
     "iopub.execute_input": "2021-06-09T16:57:28.862069Z",
     "iopub.status.busy": "2021-06-09T16:57:28.856919Z",
     "iopub.status.idle": "2021-06-09T16:57:55.898365Z",
     "shell.execute_reply": "2021-06-09T16:57:55.897810Z",
     "shell.execute_reply.started": "2021-06-09T16:32:00.212275Z"
    },
    "papermill": {
     "duration": 27.106587,
     "end_time": "2021-06-09T16:57:55.898576",
     "exception": false,
     "start_time": "2021-06-09T16:57:28.791989",
     "status": "completed"
    },
    "tags": []
   },
   "outputs": [
    {
     "name": "stdout",
     "output_type": "stream",
     "text": [
      "Processing /kaggle/input/textstat/textstat-0.7.1-py3-none-any.whl\r\n",
      "Requirement already satisfied: pyphen in /opt/conda/lib/python3.7/site-packages (from textstat==0.7.1) (0.10.0)\r\n",
      "Installing collected packages: textstat\r\n",
      "Successfully installed textstat-0.7.1\r\n"
     ]
    }
   ],
   "source": [
    "!pip install ../input/textstat/textstat-0.7.1-py3-none-any.whl"
   ]
  },
  {
   "cell_type": "code",
   "execution_count": 4,
   "id": "hearing-presentation",
   "metadata": {
    "execution": {
     "iopub.execute_input": "2021-06-09T16:57:56.033018Z",
     "iopub.status.busy": "2021-06-09T16:57:56.031952Z",
     "iopub.status.idle": "2021-06-09T16:58:22.199919Z",
     "shell.execute_reply": "2021-06-09T16:58:22.198451Z",
     "shell.execute_reply.started": "2021-06-09T16:32:26.806473Z"
    },
    "papermill": {
     "duration": 26.239144,
     "end_time": "2021-06-09T16:58:22.200115",
     "exception": false,
     "start_time": "2021-06-09T16:57:55.960971",
     "status": "completed"
    },
    "tags": []
   },
   "outputs": [
    {
     "name": "stdout",
     "output_type": "stream",
     "text": [
      "[nltk_data] <urlopen error [Errno -3] Temporary failure in name\n",
      "[nltk_data]     resolution>\n"
     ]
    },
    {
     "data": {
      "text/html": [
       "<style type='text/css'>\n",
       ".datatable table.frame { margin-bottom: 0; }\n",
       ".datatable table.frame thead { border-bottom: none; }\n",
       ".datatable table.frame tr.coltypes td {  color: #FFFFFF;  line-height: 6px;  padding: 0 0.5em;}\n",
       ".datatable .bool    { background: #DDDD99; }\n",
       ".datatable .object  { background: #565656; }\n",
       ".datatable .int     { background: #5D9E5D; }\n",
       ".datatable .float   { background: #4040CC; }\n",
       ".datatable .str     { background: #CC4040; }\n",
       ".datatable .row_index {  background: var(--jp-border-color3);  border-right: 1px solid var(--jp-border-color0);  color: var(--jp-ui-font-color3);  font-size: 9px;}\n",
       ".datatable .frame tr.coltypes .row_index {  background: var(--jp-border-color0);}\n",
       ".datatable th:nth-child(2) { padding-left: 12px; }\n",
       ".datatable .hellipsis {  color: var(--jp-cell-editor-border-color);}\n",
       ".datatable .vellipsis {  background: var(--jp-layout-color0);  color: var(--jp-cell-editor-border-color);}\n",
       ".datatable .na {  color: var(--jp-cell-editor-border-color);  font-size: 80%;}\n",
       ".datatable .footer { font-size: 9px; }\n",
       ".datatable .frame_dimensions {  background: var(--jp-border-color3);  border-top: 1px solid var(--jp-border-color0);  color: var(--jp-ui-font-color3);  display: inline-block;  opacity: 0.6;  padding: 1px 10px 1px 5px;}\n",
       "</style>\n"
      ],
      "text/plain": [
       "<IPython.core.display.HTML object>"
      ]
     },
     "metadata": {},
     "output_type": "display_data"
    }
   ],
   "source": [
    "import pandas as pd\n",
    "import numpy as np\n",
    "import seaborn as sns\n",
    "from matplotlib import pyplot as plt\n",
    "import re\n",
    "import seaborn as sns\n",
    "import matplotlib.pyplot as plt\n",
    "from nltk.corpus import stopwords\n",
    "from nltk.tokenize import word_tokenize\n",
    "from nltk.tokenize import sent_tokenize\n",
    "import textstat\n",
    "from textstat.textstat import textstatistics\n",
    "import nltk\n",
    "nltk.download(['punkt', 'wordnet'])\n",
    "from nltk.stem import WordNetLemmatizer\n",
    "from sklearn.model_selection import KFold\n",
    "from sklearn.pipeline import Pipeline\n",
    "from sklearn.ensemble import RandomForestRegressor\n",
    "from sklearn.feature_extraction.text import CountVectorizer, TfidfTransformer\n",
    "from sklearn.decomposition import TruncatedSVD\n",
    "from lightgbm import LGBMRegressor\n",
    "from xgboost import XGBRegressor\n",
    "from sklearn.linear_model import Lasso\n",
    "from sklearn.feature_selection import SelectFromModel\n",
    "from sklearn.linear_model import Ridge\n",
    "from sklearn.model_selection import GridSearchCV\n",
    "from sklearn.metrics import mean_squared_error"
   ]
  },
  {
   "cell_type": "code",
   "execution_count": 5,
   "id": "described-massage",
   "metadata": {
    "execution": {
     "iopub.execute_input": "2021-06-09T16:58:22.341609Z",
     "iopub.status.busy": "2021-06-09T16:58:22.340858Z",
     "iopub.status.idle": "2021-06-09T16:58:22.425916Z",
     "shell.execute_reply": "2021-06-09T16:58:22.425064Z",
     "shell.execute_reply.started": "2021-06-09T16:32:46.854559Z"
    },
    "papermill": {
     "duration": 0.158669,
     "end_time": "2021-06-09T16:58:22.426084",
     "exception": false,
     "start_time": "2021-06-09T16:58:22.267415",
     "status": "completed"
    },
    "tags": []
   },
   "outputs": [],
   "source": [
    "train_df = pd.read_csv('/kaggle/input/commonlitreadabilityprize/train.csv')\n",
    "test_df = pd.read_csv('/kaggle/input/commonlitreadabilityprize/test.csv')"
   ]
  },
  {
   "cell_type": "code",
   "execution_count": 6,
   "id": "brave-repeat",
   "metadata": {
    "execution": {
     "iopub.execute_input": "2021-06-09T16:58:22.573639Z",
     "iopub.status.busy": "2021-06-09T16:58:22.572363Z",
     "iopub.status.idle": "2021-06-09T16:58:22.583941Z",
     "shell.execute_reply": "2021-06-09T16:58:22.584445Z",
     "shell.execute_reply.started": "2021-06-09T16:32:46.911902Z"
    },
    "papermill": {
     "duration": 0.09208,
     "end_time": "2021-06-09T16:58:22.584593",
     "exception": false,
     "start_time": "2021-06-09T16:58:22.492513",
     "status": "completed"
    },
    "tags": []
   },
   "outputs": [
    {
     "data": {
      "text/html": [
       "<div>\n",
       "<style scoped>\n",
       "    .dataframe tbody tr th:only-of-type {\n",
       "        vertical-align: middle;\n",
       "    }\n",
       "\n",
       "    .dataframe tbody tr th {\n",
       "        vertical-align: top;\n",
       "    }\n",
       "\n",
       "    .dataframe thead th {\n",
       "        text-align: right;\n",
       "    }\n",
       "</style>\n",
       "<table border=\"1\" class=\"dataframe\">\n",
       "  <thead>\n",
       "    <tr style=\"text-align: right;\">\n",
       "      <th></th>\n",
       "      <th>id</th>\n",
       "      <th>url_legal</th>\n",
       "      <th>license</th>\n",
       "      <th>excerpt</th>\n",
       "      <th>target</th>\n",
       "      <th>standard_error</th>\n",
       "    </tr>\n",
       "  </thead>\n",
       "  <tbody>\n",
       "    <tr>\n",
       "      <th>0</th>\n",
       "      <td>c12129c31</td>\n",
       "      <td>NaN</td>\n",
       "      <td>NaN</td>\n",
       "      <td>When the young people returned to the ballroom...</td>\n",
       "      <td>-0.340259</td>\n",
       "      <td>0.464009</td>\n",
       "    </tr>\n",
       "    <tr>\n",
       "      <th>1</th>\n",
       "      <td>85aa80a4c</td>\n",
       "      <td>NaN</td>\n",
       "      <td>NaN</td>\n",
       "      <td>All through dinner time, Mrs. Fayre was somewh...</td>\n",
       "      <td>-0.315372</td>\n",
       "      <td>0.480805</td>\n",
       "    </tr>\n",
       "    <tr>\n",
       "      <th>2</th>\n",
       "      <td>b69ac6792</td>\n",
       "      <td>NaN</td>\n",
       "      <td>NaN</td>\n",
       "      <td>As Roger had predicted, the snow departed as q...</td>\n",
       "      <td>-0.580118</td>\n",
       "      <td>0.476676</td>\n",
       "    </tr>\n",
       "    <tr>\n",
       "      <th>3</th>\n",
       "      <td>dd1000b26</td>\n",
       "      <td>NaN</td>\n",
       "      <td>NaN</td>\n",
       "      <td>And outside before the palace a great garden w...</td>\n",
       "      <td>-1.054013</td>\n",
       "      <td>0.450007</td>\n",
       "    </tr>\n",
       "    <tr>\n",
       "      <th>4</th>\n",
       "      <td>37c1b32fb</td>\n",
       "      <td>NaN</td>\n",
       "      <td>NaN</td>\n",
       "      <td>Once upon a time there were Three Bears who li...</td>\n",
       "      <td>0.247197</td>\n",
       "      <td>0.510845</td>\n",
       "    </tr>\n",
       "  </tbody>\n",
       "</table>\n",
       "</div>"
      ],
      "text/plain": [
       "          id url_legal license  \\\n",
       "0  c12129c31       NaN     NaN   \n",
       "1  85aa80a4c       NaN     NaN   \n",
       "2  b69ac6792       NaN     NaN   \n",
       "3  dd1000b26       NaN     NaN   \n",
       "4  37c1b32fb       NaN     NaN   \n",
       "\n",
       "                                             excerpt    target  standard_error  \n",
       "0  When the young people returned to the ballroom... -0.340259        0.464009  \n",
       "1  All through dinner time, Mrs. Fayre was somewh... -0.315372        0.480805  \n",
       "2  As Roger had predicted, the snow departed as q... -0.580118        0.476676  \n",
       "3  And outside before the palace a great garden w... -1.054013        0.450007  \n",
       "4  Once upon a time there were Three Bears who li...  0.247197        0.510845  "
      ]
     },
     "execution_count": 6,
     "metadata": {},
     "output_type": "execute_result"
    }
   ],
   "source": [
    "train_df.head()"
   ]
  },
  {
   "cell_type": "code",
   "execution_count": 7,
   "id": "fitting-builder",
   "metadata": {
    "execution": {
     "iopub.execute_input": "2021-06-09T16:58:22.723763Z",
     "iopub.status.busy": "2021-06-09T16:58:22.722046Z",
     "iopub.status.idle": "2021-06-09T16:58:22.729292Z",
     "shell.execute_reply": "2021-06-09T16:58:22.729885Z",
     "shell.execute_reply.started": "2021-06-09T16:32:46.930692Z"
    },
    "papermill": {
     "duration": 0.07976,
     "end_time": "2021-06-09T16:58:22.730036",
     "exception": false,
     "start_time": "2021-06-09T16:58:22.650276",
     "status": "completed"
    },
    "tags": []
   },
   "outputs": [
    {
     "data": {
      "text/plain": [
       "(2834, 6)"
      ]
     },
     "execution_count": 7,
     "metadata": {},
     "output_type": "execute_result"
    }
   ],
   "source": [
    "train_df.shape"
   ]
  },
  {
   "cell_type": "code",
   "execution_count": 8,
   "id": "aware-insertion",
   "metadata": {
    "execution": {
     "iopub.execute_input": "2021-06-09T16:58:22.881699Z",
     "iopub.status.busy": "2021-06-09T16:58:22.880647Z",
     "iopub.status.idle": "2021-06-09T16:58:22.884549Z",
     "shell.execute_reply": "2021-06-09T16:58:22.885552Z",
     "shell.execute_reply.started": "2021-06-09T16:32:46.947844Z"
    },
    "papermill": {
     "duration": 0.090487,
     "end_time": "2021-06-09T16:58:22.885791",
     "exception": false,
     "start_time": "2021-06-09T16:58:22.795304",
     "status": "completed"
    },
    "tags": []
   },
   "outputs": [
    {
     "name": "stdout",
     "output_type": "stream",
     "text": [
      "<class 'pandas.core.frame.DataFrame'>\n",
      "RangeIndex: 2834 entries, 0 to 2833\n",
      "Data columns (total 6 columns):\n",
      " #   Column          Non-Null Count  Dtype  \n",
      "---  ------          --------------  -----  \n",
      " 0   id              2834 non-null   object \n",
      " 1   url_legal       830 non-null    object \n",
      " 2   license         830 non-null    object \n",
      " 3   excerpt         2834 non-null   object \n",
      " 4   target          2834 non-null   float64\n",
      " 5   standard_error  2834 non-null   float64\n",
      "dtypes: float64(2), object(4)\n",
      "memory usage: 133.0+ KB\n"
     ]
    }
   ],
   "source": [
    "train_df.info()"
   ]
  },
  {
   "cell_type": "code",
   "execution_count": 9,
   "id": "aggressive-northeast",
   "metadata": {
    "execution": {
     "iopub.execute_input": "2021-06-09T16:58:23.030497Z",
     "iopub.status.busy": "2021-06-09T16:58:23.028960Z",
     "iopub.status.idle": "2021-06-09T16:58:23.034236Z",
     "shell.execute_reply": "2021-06-09T16:58:23.033642Z",
     "shell.execute_reply.started": "2021-06-09T16:32:46.974583Z"
    },
    "papermill": {
     "duration": 0.081468,
     "end_time": "2021-06-09T16:58:23.034447",
     "exception": false,
     "start_time": "2021-06-09T16:58:22.952979",
     "status": "completed"
    },
    "tags": []
   },
   "outputs": [
    {
     "data": {
      "text/plain": [
       "id                   0\n",
       "url_legal         2004\n",
       "license           2004\n",
       "excerpt              0\n",
       "target               0\n",
       "standard_error       0\n",
       "dtype: int64"
      ]
     },
     "execution_count": 9,
     "metadata": {},
     "output_type": "execute_result"
    }
   ],
   "source": [
    "train_df.isnull().sum()"
   ]
  },
  {
   "cell_type": "code",
   "execution_count": 10,
   "id": "proper-columbus",
   "metadata": {
    "execution": {
     "iopub.execute_input": "2021-06-09T16:58:23.181777Z",
     "iopub.status.busy": "2021-06-09T16:58:23.180450Z",
     "iopub.status.idle": "2021-06-09T16:58:23.187780Z",
     "shell.execute_reply": "2021-06-09T16:58:23.186958Z",
     "shell.execute_reply.started": "2021-06-09T16:32:46.991525Z"
    },
    "papermill": {
     "duration": 0.08757,
     "end_time": "2021-06-09T16:58:23.187935",
     "exception": false,
     "start_time": "2021-06-09T16:58:23.100365",
     "status": "completed"
    },
    "tags": []
   },
   "outputs": [
    {
     "data": {
      "text/html": [
       "<div>\n",
       "<style scoped>\n",
       "    .dataframe tbody tr th:only-of-type {\n",
       "        vertical-align: middle;\n",
       "    }\n",
       "\n",
       "    .dataframe tbody tr th {\n",
       "        vertical-align: top;\n",
       "    }\n",
       "\n",
       "    .dataframe thead th {\n",
       "        text-align: right;\n",
       "    }\n",
       "</style>\n",
       "<table border=\"1\" class=\"dataframe\">\n",
       "  <thead>\n",
       "    <tr style=\"text-align: right;\">\n",
       "      <th></th>\n",
       "      <th>id</th>\n",
       "      <th>url_legal</th>\n",
       "      <th>license</th>\n",
       "      <th>excerpt</th>\n",
       "    </tr>\n",
       "  </thead>\n",
       "  <tbody>\n",
       "    <tr>\n",
       "      <th>0</th>\n",
       "      <td>c0f722661</td>\n",
       "      <td>NaN</td>\n",
       "      <td>NaN</td>\n",
       "      <td>My hope lay in Jack's promise that he would ke...</td>\n",
       "    </tr>\n",
       "    <tr>\n",
       "      <th>1</th>\n",
       "      <td>f0953f0a5</td>\n",
       "      <td>NaN</td>\n",
       "      <td>NaN</td>\n",
       "      <td>Dotty continued to go to Mrs. Gray's every nig...</td>\n",
       "    </tr>\n",
       "    <tr>\n",
       "      <th>2</th>\n",
       "      <td>0df072751</td>\n",
       "      <td>NaN</td>\n",
       "      <td>NaN</td>\n",
       "      <td>It was a bright and cheerful scene that greete...</td>\n",
       "    </tr>\n",
       "    <tr>\n",
       "      <th>3</th>\n",
       "      <td>04caf4e0c</td>\n",
       "      <td>https://en.wikipedia.org/wiki/Cell_division</td>\n",
       "      <td>CC BY-SA 3.0</td>\n",
       "      <td>Cell division is the process by which a parent...</td>\n",
       "    </tr>\n",
       "    <tr>\n",
       "      <th>4</th>\n",
       "      <td>0e63f8bea</td>\n",
       "      <td>https://en.wikipedia.org/wiki/Debugging</td>\n",
       "      <td>CC BY-SA 3.0</td>\n",
       "      <td>Debugging is the process of finding and resolv...</td>\n",
       "    </tr>\n",
       "  </tbody>\n",
       "</table>\n",
       "</div>"
      ],
      "text/plain": [
       "          id                                    url_legal       license  \\\n",
       "0  c0f722661                                          NaN           NaN   \n",
       "1  f0953f0a5                                          NaN           NaN   \n",
       "2  0df072751                                          NaN           NaN   \n",
       "3  04caf4e0c  https://en.wikipedia.org/wiki/Cell_division  CC BY-SA 3.0   \n",
       "4  0e63f8bea      https://en.wikipedia.org/wiki/Debugging  CC BY-SA 3.0   \n",
       "\n",
       "                                             excerpt  \n",
       "0  My hope lay in Jack's promise that he would ke...  \n",
       "1  Dotty continued to go to Mrs. Gray's every nig...  \n",
       "2  It was a bright and cheerful scene that greete...  \n",
       "3  Cell division is the process by which a parent...  \n",
       "4  Debugging is the process of finding and resolv...  "
      ]
     },
     "execution_count": 10,
     "metadata": {},
     "output_type": "execute_result"
    }
   ],
   "source": [
    "test_df.head()"
   ]
  },
  {
   "cell_type": "code",
   "execution_count": 11,
   "id": "excited-suicide",
   "metadata": {
    "execution": {
     "iopub.execute_input": "2021-06-09T16:58:23.337630Z",
     "iopub.status.busy": "2021-06-09T16:58:23.335067Z",
     "iopub.status.idle": "2021-06-09T16:58:23.340926Z",
     "shell.execute_reply": "2021-06-09T16:58:23.340194Z",
     "shell.execute_reply.started": "2021-06-09T16:32:47.005299Z"
    },
    "papermill": {
     "duration": 0.082484,
     "end_time": "2021-06-09T16:58:23.341076",
     "exception": false,
     "start_time": "2021-06-09T16:58:23.258592",
     "status": "completed"
    },
    "tags": []
   },
   "outputs": [
    {
     "data": {
      "text/plain": [
       "(7, 4)"
      ]
     },
     "execution_count": 11,
     "metadata": {},
     "output_type": "execute_result"
    }
   ],
   "source": [
    "test_df.shape"
   ]
  },
  {
   "cell_type": "code",
   "execution_count": 12,
   "id": "failing-competition",
   "metadata": {
    "execution": {
     "iopub.execute_input": "2021-06-09T16:58:23.486800Z",
     "iopub.status.busy": "2021-06-09T16:58:23.485865Z",
     "iopub.status.idle": "2021-06-09T16:58:23.491957Z",
     "shell.execute_reply": "2021-06-09T16:58:23.491416Z",
     "shell.execute_reply.started": "2021-06-09T16:32:47.019478Z"
    },
    "papermill": {
     "duration": 0.083459,
     "end_time": "2021-06-09T16:58:23.492098",
     "exception": false,
     "start_time": "2021-06-09T16:58:23.408639",
     "status": "completed"
    },
    "tags": []
   },
   "outputs": [
    {
     "name": "stdout",
     "output_type": "stream",
     "text": [
      "<class 'pandas.core.frame.DataFrame'>\n",
      "RangeIndex: 7 entries, 0 to 6\n",
      "Data columns (total 4 columns):\n",
      " #   Column     Non-Null Count  Dtype \n",
      "---  ------     --------------  ----- \n",
      " 0   id         7 non-null      object\n",
      " 1   url_legal  3 non-null      object\n",
      " 2   license    3 non-null      object\n",
      " 3   excerpt    7 non-null      object\n",
      "dtypes: object(4)\n",
      "memory usage: 352.0+ bytes\n"
     ]
    }
   ],
   "source": [
    "test_df.info()"
   ]
  },
  {
   "cell_type": "code",
   "execution_count": 13,
   "id": "subject-christianity",
   "metadata": {
    "execution": {
     "iopub.execute_input": "2021-06-09T16:58:23.632571Z",
     "iopub.status.busy": "2021-06-09T16:58:23.631707Z",
     "iopub.status.idle": "2021-06-09T16:58:23.638319Z",
     "shell.execute_reply": "2021-06-09T16:58:23.639007Z",
     "shell.execute_reply.started": "2021-06-09T16:32:47.04265Z"
    },
    "papermill": {
     "duration": 0.079824,
     "end_time": "2021-06-09T16:58:23.639218",
     "exception": false,
     "start_time": "2021-06-09T16:58:23.559394",
     "status": "completed"
    },
    "tags": []
   },
   "outputs": [
    {
     "data": {
      "text/plain": [
       "id           0\n",
       "url_legal    4\n",
       "license      4\n",
       "excerpt      0\n",
       "dtype: int64"
      ]
     },
     "execution_count": 13,
     "metadata": {},
     "output_type": "execute_result"
    }
   ],
   "source": [
    "test_df.isnull().sum()"
   ]
  },
  {
   "cell_type": "code",
   "execution_count": 14,
   "id": "flush-bailey",
   "metadata": {
    "execution": {
     "iopub.execute_input": "2021-06-09T16:58:23.782416Z",
     "iopub.status.busy": "2021-06-09T16:58:23.781490Z",
     "iopub.status.idle": "2021-06-09T16:58:23.800549Z",
     "shell.execute_reply": "2021-06-09T16:58:23.801312Z",
     "shell.execute_reply.started": "2021-06-09T16:32:47.059909Z"
    },
    "papermill": {
     "duration": 0.092408,
     "end_time": "2021-06-09T16:58:23.801507",
     "exception": false,
     "start_time": "2021-06-09T16:58:23.709099",
     "status": "completed"
    },
    "tags": []
   },
   "outputs": [
    {
     "data": {
      "text/plain": [
       "(2834, 6)"
      ]
     },
     "execution_count": 14,
     "metadata": {},
     "output_type": "execute_result"
    }
   ],
   "source": [
    "train_df = train_df.drop_duplicates()\n",
    "train_df.shape"
   ]
  },
  {
   "cell_type": "code",
   "execution_count": 15,
   "id": "unique-namibia",
   "metadata": {
    "execution": {
     "iopub.execute_input": "2021-06-09T16:58:23.944038Z",
     "iopub.status.busy": "2021-06-09T16:58:23.943440Z",
     "iopub.status.idle": "2021-06-09T16:58:23.949925Z",
     "shell.execute_reply": "2021-06-09T16:58:23.949422Z",
     "shell.execute_reply.started": "2021-06-09T16:32:47.085308Z"
    },
    "papermill": {
     "duration": 0.079856,
     "end_time": "2021-06-09T16:58:23.950046",
     "exception": false,
     "start_time": "2021-06-09T16:58:23.870190",
     "status": "completed"
    },
    "tags": []
   },
   "outputs": [
    {
     "data": {
      "text/plain": [
       "(7, 4)"
      ]
     },
     "execution_count": 15,
     "metadata": {},
     "output_type": "execute_result"
    }
   ],
   "source": [
    "test_df = test_df.drop_duplicates()\n",
    "test_df.shape"
   ]
  },
  {
   "cell_type": "code",
   "execution_count": 16,
   "id": "measured-teens",
   "metadata": {
    "execution": {
     "iopub.execute_input": "2021-06-09T16:58:24.110937Z",
     "iopub.status.busy": "2021-06-09T16:58:24.110106Z",
     "iopub.status.idle": "2021-06-09T16:58:24.774543Z",
     "shell.execute_reply": "2021-06-09T16:58:24.773902Z",
     "shell.execute_reply.started": "2021-06-09T16:32:47.099787Z"
    },
    "papermill": {
     "duration": 0.756259,
     "end_time": "2021-06-09T16:58:24.774687",
     "exception": false,
     "start_time": "2021-06-09T16:58:24.018428",
     "status": "completed"
    },
    "tags": []
   },
   "outputs": [
    {
     "name": "stderr",
     "output_type": "stream",
     "text": [
      "/opt/conda/lib/python3.7/site-packages/seaborn/distributions.py:2557: FutureWarning: `distplot` is a deprecated function and will be removed in a future version. Please adapt your code to use either `displot` (a figure-level function with similar flexibility) or `histplot` (an axes-level function for histograms).\n",
      "  warnings.warn(msg, FutureWarning)\n",
      "/opt/conda/lib/python3.7/site-packages/seaborn/distributions.py:2557: FutureWarning: `distplot` is a deprecated function and will be removed in a future version. Please adapt your code to use either `displot` (a figure-level function with similar flexibility) or `histplot` (an axes-level function for histograms).\n",
      "  warnings.warn(msg, FutureWarning)\n"
     ]
    },
    {
     "data": {
      "text/plain": [
       "<AxesSubplot:xlabel='standard_error', ylabel='Density'>"
      ]
     },
     "execution_count": 16,
     "metadata": {},
     "output_type": "execute_result"
    },
    {
     "data": {
      "image/png": "[encoded data removed]",
      "text/plain": [
       "<Figure size 720x1080 with 2 Axes>"
      ]
     },
     "metadata": {
      "needs_background": "light"
     },
     "output_type": "display_data"
    }
   ],
   "source": [
    "fig = plt.figure(figsize=(10,15))\n",
    "plt.subplot(2,1,1)\n",
    "sns.distplot(train_df['target'])\n",
    "plt.subplot(2,1,2)\n",
    "sns.distplot(train_df['standard_error'])"
   ]
  },
  {
   "cell_type": "markdown",
   "id": "proprietary-mediterranean",
   "metadata": {
    "papermill": {
     "duration": 0.069691,
     "end_time": "2021-06-09T16:58:24.915775",
     "exception": false,
     "start_time": "2021-06-09T16:58:24.846084",
     "status": "completed"
    },
    "tags": []
   },
   "source": [
    "The graph representing the target values seems normally distributed representing that rating done for the article where most of them are medium complex and other are either too easy or too hard to be classified correctly."
   ]
  },
  {
   "cell_type": "markdown",
   "id": "human-rochester",
   "metadata": {
    "papermill": {
     "duration": 0.070499,
     "end_time": "2021-06-09T16:58:25.057313",
     "exception": false,
     "start_time": "2021-06-09T16:58:24.986814",
     "status": "completed"
    },
    "tags": []
   },
   "source": [
    "Graph representing standard_error in the dataset looks to be at 0.5 error value which means that most of the passage which the user is not to understand are misjudge to be of medium complexibility by them."
   ]
  },
  {
   "cell_type": "code",
   "execution_count": 17,
   "id": "refined-porcelain",
   "metadata": {
    "execution": {
     "iopub.execute_input": "2021-06-09T16:58:25.205891Z",
     "iopub.status.busy": "2021-06-09T16:58:25.204897Z",
     "iopub.status.idle": "2021-06-09T16:58:25.209425Z",
     "shell.execute_reply": "2021-06-09T16:58:25.208833Z",
     "shell.execute_reply.started": "2021-06-09T16:32:47.656411Z"
    },
    "papermill": {
     "duration": 0.0813,
     "end_time": "2021-06-09T16:58:25.209560",
     "exception": false,
     "start_time": "2021-06-09T16:58:25.128260",
     "status": "completed"
    },
    "tags": []
   },
   "outputs": [],
   "source": [
    "#dropping columns url_legal and license\n",
    "train_df = train_df.drop(columns=['url_legal','license'],axis=1)"
   ]
  },
  {
   "cell_type": "markdown",
   "id": "substantial-yukon",
   "metadata": {
    "papermill": {
     "duration": 0.071418,
     "end_time": "2021-06-09T16:58:25.352651",
     "exception": false,
     "start_time": "2021-06-09T16:58:25.281233",
     "status": "completed"
    },
    "tags": []
   },
   "source": [
    "Adding few new columns into the train_df displaying summary count of words and sentence in the passage mentioned in excerpt."
   ]
  },
  {
   "cell_type": "code",
   "execution_count": 18,
   "id": "anonymous-worker",
   "metadata": {
    "execution": {
     "iopub.execute_input": "2021-06-09T16:58:25.502373Z",
     "iopub.status.busy": "2021-06-09T16:58:25.501676Z",
     "iopub.status.idle": "2021-06-09T16:58:25.507486Z",
     "shell.execute_reply": "2021-06-09T16:58:25.506726Z",
     "shell.execute_reply.started": "2021-06-09T16:32:47.664028Z"
    },
    "papermill": {
     "duration": 0.081935,
     "end_time": "2021-06-09T16:58:25.507661",
     "exception": false,
     "start_time": "2021-06-09T16:58:25.425726",
     "status": "completed"
    },
    "tags": []
   },
   "outputs": [],
   "source": [
    "summary_df = train_df"
   ]
  },
  {
   "cell_type": "code",
   "execution_count": 19,
   "id": "enormous-guarantee",
   "metadata": {
    "execution": {
     "iopub.execute_input": "2021-06-09T16:58:25.657515Z",
     "iopub.status.busy": "2021-06-09T16:58:25.656375Z",
     "iopub.status.idle": "2021-06-09T16:58:25.662121Z",
     "shell.execute_reply": "2021-06-09T16:58:25.661617Z",
     "shell.execute_reply.started": "2021-06-09T16:32:47.678322Z"
    },
    "papermill": {
     "duration": 0.085862,
     "end_time": "2021-06-09T16:58:25.662285",
     "exception": false,
     "start_time": "2021-06-09T16:58:25.576423",
     "status": "completed"
    },
    "tags": []
   },
   "outputs": [
    {
     "data": {
      "text/html": [
       "<div>\n",
       "<style scoped>\n",
       "    .dataframe tbody tr th:only-of-type {\n",
       "        vertical-align: middle;\n",
       "    }\n",
       "\n",
       "    .dataframe tbody tr th {\n",
       "        vertical-align: top;\n",
       "    }\n",
       "\n",
       "    .dataframe thead th {\n",
       "        text-align: right;\n",
       "    }\n",
       "</style>\n",
       "<table border=\"1\" class=\"dataframe\">\n",
       "  <thead>\n",
       "    <tr style=\"text-align: right;\">\n",
       "      <th></th>\n",
       "      <th>id</th>\n",
       "      <th>excerpt</th>\n",
       "      <th>target</th>\n",
       "      <th>standard_error</th>\n",
       "    </tr>\n",
       "  </thead>\n",
       "  <tbody>\n",
       "    <tr>\n",
       "      <th>0</th>\n",
       "      <td>c12129c31</td>\n",
       "      <td>When the young people returned to the ballroom...</td>\n",
       "      <td>-0.340259</td>\n",
       "      <td>0.464009</td>\n",
       "    </tr>\n",
       "    <tr>\n",
       "      <th>1</th>\n",
       "      <td>85aa80a4c</td>\n",
       "      <td>All through dinner time, Mrs. Fayre was somewh...</td>\n",
       "      <td>-0.315372</td>\n",
       "      <td>0.480805</td>\n",
       "    </tr>\n",
       "    <tr>\n",
       "      <th>2</th>\n",
       "      <td>b69ac6792</td>\n",
       "      <td>As Roger had predicted, the snow departed as q...</td>\n",
       "      <td>-0.580118</td>\n",
       "      <td>0.476676</td>\n",
       "    </tr>\n",
       "    <tr>\n",
       "      <th>3</th>\n",
       "      <td>dd1000b26</td>\n",
       "      <td>And outside before the palace a great garden w...</td>\n",
       "      <td>-1.054013</td>\n",
       "      <td>0.450007</td>\n",
       "    </tr>\n",
       "    <tr>\n",
       "      <th>4</th>\n",
       "      <td>37c1b32fb</td>\n",
       "      <td>Once upon a time there were Three Bears who li...</td>\n",
       "      <td>0.247197</td>\n",
       "      <td>0.510845</td>\n",
       "    </tr>\n",
       "  </tbody>\n",
       "</table>\n",
       "</div>"
      ],
      "text/plain": [
       "          id                                            excerpt    target  \\\n",
       "0  c12129c31  When the young people returned to the ballroom... -0.340259   \n",
       "1  85aa80a4c  All through dinner time, Mrs. Fayre was somewh... -0.315372   \n",
       "2  b69ac6792  As Roger had predicted, the snow departed as q... -0.580118   \n",
       "3  dd1000b26  And outside before the palace a great garden w... -1.054013   \n",
       "4  37c1b32fb  Once upon a time there were Three Bears who li...  0.247197   \n",
       "\n",
       "   standard_error  \n",
       "0        0.464009  \n",
       "1        0.480805  \n",
       "2        0.476676  \n",
       "3        0.450007  \n",
       "4        0.510845  "
      ]
     },
     "execution_count": 19,
     "metadata": {},
     "output_type": "execute_result"
    }
   ],
   "source": [
    "summary_df.head()"
   ]
  },
  {
   "cell_type": "code",
   "execution_count": 20,
   "id": "minor-conservation",
   "metadata": {
    "execution": {
     "iopub.execute_input": "2021-06-09T16:58:25.861880Z",
     "iopub.status.busy": "2021-06-09T16:58:25.846420Z",
     "iopub.status.idle": "2021-06-09T16:58:30.428621Z",
     "shell.execute_reply": "2021-06-09T16:58:30.428037Z",
     "shell.execute_reply.started": "2021-06-09T16:32:47.701119Z"
    },
    "papermill": {
     "duration": 4.690322,
     "end_time": "2021-06-09T16:58:30.428781",
     "exception": false,
     "start_time": "2021-06-09T16:58:25.738459",
     "status": "completed"
    },
    "tags": []
   },
   "outputs": [],
   "source": [
    "no_sentence = []\n",
    "total_word = 0\n",
    "average_word = 0\n",
    "no_words = []\n",
    "average_word_sen = []\n",
    "for passage in summary_df['excerpt']:\n",
    "    count_sen = len(re.findall(r'\\.', passage))\n",
    "    no_sentence.append(count_sen)\n",
    "    for sen in passage:\n",
    "        count_word = len(re.findall(r'\\w+', sen))\n",
    "        total_word += count_word\n",
    "    average_word = total_word/count_sen\n",
    "    no_words.append(total_word)\n",
    "    average_word_sen.append(average_word)\n",
    "summary_df['no_sen'] = no_sentence\n",
    "summary_df['no_word'] = no_words\n",
    "summary_df['average_word_sen'] = average_word_sen"
   ]
  },
  {
   "cell_type": "code",
   "execution_count": 21,
   "id": "approximate-healing",
   "metadata": {
    "execution": {
     "iopub.execute_input": "2021-06-09T16:58:30.603144Z",
     "iopub.status.busy": "2021-06-09T16:58:30.587268Z",
     "iopub.status.idle": "2021-06-09T16:58:35.223159Z",
     "shell.execute_reply": "2021-06-09T16:58:35.222108Z",
     "shell.execute_reply.started": "2021-06-09T16:32:51.927751Z"
    },
    "papermill": {
     "duration": 4.727655,
     "end_time": "2021-06-09T16:58:35.223315",
     "exception": false,
     "start_time": "2021-06-09T16:58:30.495660",
     "status": "completed"
    },
    "tags": []
   },
   "outputs": [],
   "source": [
    "count_letter = 0\n",
    "total_letter = []\n",
    "all_word = []\n",
    "count_unique_word = []\n",
    "for passage in summary_df['excerpt']:\n",
    "    for word in re.findall(r'\\w+', passage):\n",
    "        all_word.append(word)\n",
    "        count_letter += len(word)\n",
    "    all_word = list(set(all_word))\n",
    "    count_unique_word.append(len(all_word))\n",
    "    total_letter.append(count_letter)\n",
    "summary_df['letter_count'] = count_letter\n",
    "summary_df['count_unique_word'] = count_unique_word"
   ]
  },
  {
   "cell_type": "code",
   "execution_count": 22,
   "id": "scenic-lewis",
   "metadata": {
    "execution": {
     "iopub.execute_input": "2021-06-09T16:58:35.370407Z",
     "iopub.status.busy": "2021-06-09T16:58:35.369620Z",
     "iopub.status.idle": "2021-06-09T16:59:04.649865Z",
     "shell.execute_reply": "2021-06-09T16:59:04.648727Z",
     "shell.execute_reply.started": "2021-06-09T16:32:56.489253Z"
    },
    "papermill": {
     "duration": 29.356664,
     "end_time": "2021-06-09T16:59:04.650025",
     "exception": false,
     "start_time": "2021-06-09T16:58:35.293361",
     "status": "completed"
    },
    "tags": []
   },
   "outputs": [],
   "source": [
    "count = 0\n",
    "unique_words = []\n",
    "count_non_stop = []\n",
    "stop_words = list(set(stopwords.words('english')))\n",
    "for passage in summary_df['excerpt']:\n",
    "    words = word_tokenize(passage)\n",
    "    for w in words:\n",
    "        if w not in stop_words and w not in unique_words:\n",
    "            count += 1\n",
    "            unique_words.append(w)\n",
    "    count_non_stop.append(count)\n",
    "summary_df['count_non_stop'] = count_non_stop"
   ]
  },
  {
   "cell_type": "code",
   "execution_count": 23,
   "id": "narrow-upset",
   "metadata": {
    "execution": {
     "iopub.execute_input": "2021-06-09T16:59:04.821233Z",
     "iopub.status.busy": "2021-06-09T16:59:04.816078Z",
     "iopub.status.idle": "2021-06-09T16:59:06.475097Z",
     "shell.execute_reply": "2021-06-09T16:59:06.474534Z",
     "shell.execute_reply.started": "2021-06-09T16:33:24.445198Z"
    },
    "papermill": {
     "duration": 1.75609,
     "end_time": "2021-06-09T16:59:06.475277",
     "exception": false,
     "start_time": "2021-06-09T16:59:04.719187",
     "status": "completed"
    },
    "tags": []
   },
   "outputs": [],
   "source": [
    "passage_length = []\n",
    "max_pass_len = []\n",
    "min_pass_len = []\n",
    "sent_passage = []\n",
    "for passage in summary_df['excerpt']:\n",
    "    passage_length.append(len(passage))\n",
    "    sent_length = sent_tokenize(passage)\n",
    "    sent_passage.append(sent_length)\n",
    "    max_pass_len.append(len(max(sent_length)))\n",
    "    min_pass_len.append(len(min(sent_length)))\n",
    "summary_df['passage_length'] = passage_length\n",
    "summary_df['max_pass_len'] = max_pass_len\n",
    "summary_df['min_pass_len'] = min_pass_len"
   ]
  },
  {
   "cell_type": "code",
   "execution_count": 24,
   "id": "pending-screen",
   "metadata": {
    "execution": {
     "iopub.execute_input": "2021-06-09T16:59:06.616760Z",
     "iopub.status.busy": "2021-06-09T16:59:06.615993Z",
     "iopub.status.idle": "2021-06-09T16:59:06.631167Z",
     "shell.execute_reply": "2021-06-09T16:59:06.630216Z",
     "shell.execute_reply.started": "2021-06-09T16:33:26.23711Z"
    },
    "papermill": {
     "duration": 0.087214,
     "end_time": "2021-06-09T16:59:06.631304",
     "exception": false,
     "start_time": "2021-06-09T16:59:06.544090",
     "status": "completed"
    },
    "tags": []
   },
   "outputs": [
    {
     "name": "stdout",
     "output_type": "stream",
     "text": [
      "<class 'pandas.core.frame.DataFrame'>\n",
      "Int64Index: 2834 entries, 0 to 2833\n",
      "Data columns (total 13 columns):\n",
      " #   Column             Non-Null Count  Dtype  \n",
      "---  ------             --------------  -----  \n",
      " 0   id                 2834 non-null   object \n",
      " 1   excerpt            2834 non-null   object \n",
      " 2   target             2834 non-null   float64\n",
      " 3   standard_error     2834 non-null   float64\n",
      " 4   no_sen             2834 non-null   int64  \n",
      " 5   no_word            2834 non-null   int64  \n",
      " 6   average_word_sen   2834 non-null   float64\n",
      " 7   letter_count       2834 non-null   int64  \n",
      " 8   count_unique_word  2834 non-null   int64  \n",
      " 9   count_non_stop     2834 non-null   int64  \n",
      " 10  passage_length     2834 non-null   int64  \n",
      " 11  max_pass_len       2834 non-null   int64  \n",
      " 12  min_pass_len       2834 non-null   int64  \n",
      "dtypes: float64(3), int64(8), object(2)\n",
      "memory usage: 310.0+ KB\n"
     ]
    }
   ],
   "source": [
    "summary_df.info()"
   ]
  },
  {
   "cell_type": "markdown",
   "id": "employed-columbia",
   "metadata": {
    "papermill": {
     "duration": 0.066692,
     "end_time": "2021-06-09T16:59:06.765111",
     "exception": false,
     "start_time": "2021-06-09T16:59:06.698419",
     "status": "completed"
    },
    "tags": []
   },
   "source": [
    "# Dale Chall Readability Score"
   ]
  },
  {
   "cell_type": "code",
   "execution_count": 25,
   "id": "dependent-franchise",
   "metadata": {
    "execution": {
     "iopub.execute_input": "2021-06-09T16:59:06.929945Z",
     "iopub.status.busy": "2021-06-09T16:59:06.914415Z",
     "iopub.status.idle": "2021-06-09T16:59:09.732805Z",
     "shell.execute_reply": "2021-06-09T16:59:09.733763Z",
     "shell.execute_reply.started": "2021-06-09T16:33:26.259019Z"
    },
    "papermill": {
     "duration": 2.902749,
     "end_time": "2021-06-09T16:59:09.734124",
     "exception": false,
     "start_time": "2021-06-09T16:59:06.831375",
     "status": "completed"
    },
    "tags": []
   },
   "outputs": [
    {
     "name": "stdout",
     "output_type": "stream",
     "text": [
      "2834\n"
     ]
    }
   ],
   "source": [
    "dale_chall_list = []\n",
    "for text in summary_df['excerpt']:\n",
    "    dale_chall = textstat.dale_chall_readability_score(text)\n",
    "    dale_chall_list.append(dale_chall)\n",
    "print(len(dale_chall_list))"
   ]
  },
  {
   "cell_type": "markdown",
   "id": "complicated-discharge",
   "metadata": {
    "papermill": {
     "duration": 0.068863,
     "end_time": "2021-06-09T16:59:09.872210",
     "exception": false,
     "start_time": "2021-06-09T16:59:09.803347",
     "status": "completed"
    },
    "tags": []
   },
   "source": []
  },
  {
   "cell_type": "code",
   "execution_count": 26,
   "id": "august-democracy",
   "metadata": {
    "execution": {
     "iopub.execute_input": "2021-06-09T16:59:10.047897Z",
     "iopub.status.busy": "2021-06-09T16:59:10.016715Z",
     "iopub.status.idle": "2021-06-09T16:59:10.578699Z",
     "shell.execute_reply": "2021-06-09T16:59:10.579258Z",
     "shell.execute_reply.started": "2021-06-09T16:33:27.983279Z"
    },
    "papermill": {
     "duration": 0.638388,
     "end_time": "2021-06-09T16:59:10.579447",
     "exception": false,
     "start_time": "2021-06-09T16:59:09.941059",
     "status": "completed"
    },
    "tags": []
   },
   "outputs": [
    {
     "name": "stdout",
     "output_type": "stream",
     "text": [
      "2834\n"
     ]
    }
   ],
   "source": [
    "coleman_liau_list = []\n",
    "for text in summary_df['excerpt']:\n",
    "    coleman_liau = textstat.coleman_liau_index(text)\n",
    "    coleman_liau_list.append(coleman_liau)\n",
    "print(len(coleman_liau_list))"
   ]
  },
  {
   "cell_type": "markdown",
   "id": "induced-sculpture",
   "metadata": {
    "papermill": {
     "duration": 0.067405,
     "end_time": "2021-06-09T16:59:10.714280",
     "exception": false,
     "start_time": "2021-06-09T16:59:10.646875",
     "status": "completed"
    },
    "tags": []
   },
   "source": []
  },
  {
   "cell_type": "code",
   "execution_count": 27,
   "id": "appreciated-camcorder",
   "metadata": {
    "execution": {
     "iopub.execute_input": "2021-06-09T16:59:10.899221Z",
     "iopub.status.busy": "2021-06-09T16:59:10.883735Z",
     "iopub.status.idle": "2021-06-09T16:59:12.764210Z",
     "shell.execute_reply": "2021-06-09T16:59:12.763621Z",
     "shell.execute_reply.started": "2021-06-09T16:33:28.587003Z"
    },
    "papermill": {
     "duration": 1.978618,
     "end_time": "2021-06-09T16:59:12.764380",
     "exception": false,
     "start_time": "2021-06-09T16:59:10.785762",
     "status": "completed"
    },
    "tags": []
   },
   "outputs": [
    {
     "name": "stdout",
     "output_type": "stream",
     "text": [
      "2834\n"
     ]
    }
   ],
   "source": [
    "smog_index_list = []\n",
    "for text in summary_df['excerpt']:\n",
    "    smog_index = textstat.smog_index(text)\n",
    "    smog_index_list.append(smog_index)\n",
    "print(len(smog_index_list))"
   ]
  },
  {
   "cell_type": "markdown",
   "id": "crude-southwest",
   "metadata": {
    "papermill": {
     "duration": 0.067636,
     "end_time": "2021-06-09T16:59:12.900237",
     "exception": false,
     "start_time": "2021-06-09T16:59:12.832601",
     "status": "completed"
    },
    "tags": []
   },
   "source": []
  },
  {
   "cell_type": "code",
   "execution_count": 28,
   "id": "chronic-allocation",
   "metadata": {
    "execution": {
     "iopub.execute_input": "2021-06-09T16:59:13.077460Z",
     "iopub.status.busy": "2021-06-09T16:59:13.051509Z",
     "iopub.status.idle": "2021-06-09T16:59:13.540203Z",
     "shell.execute_reply": "2021-06-09T16:59:13.540973Z",
     "shell.execute_reply.started": "2021-06-09T16:33:30.299243Z"
    },
    "papermill": {
     "duration": 0.571552,
     "end_time": "2021-06-09T16:59:13.541232",
     "exception": false,
     "start_time": "2021-06-09T16:59:12.969680",
     "status": "completed"
    },
    "tags": []
   },
   "outputs": [
    {
     "name": "stdout",
     "output_type": "stream",
     "text": [
      "2834\n"
     ]
    }
   ],
   "source": [
    "automated_readability_index_list = []\n",
    "for text in summary_df['excerpt']:\n",
    "    automated_readability_index = textstat.automated_readability_index(text)\n",
    "    automated_readability_index_list.append(automated_readability_index)\n",
    "print(len(automated_readability_index_list))"
   ]
  },
  {
   "cell_type": "markdown",
   "id": "dominant-browser",
   "metadata": {
    "papermill": {
     "duration": 0.068369,
     "end_time": "2021-06-09T16:59:13.680517",
     "exception": false,
     "start_time": "2021-06-09T16:59:13.612148",
     "status": "completed"
    },
    "tags": []
   },
   "source": []
  },
  {
   "cell_type": "code",
   "execution_count": 29,
   "id": "continental-arthur",
   "metadata": {
    "execution": {
     "iopub.execute_input": "2021-06-09T16:59:13.848843Z",
     "iopub.status.busy": "2021-06-09T16:59:13.833206Z",
     "iopub.status.idle": "2021-06-09T16:59:14.839020Z",
     "shell.execute_reply": "2021-06-09T16:59:14.839780Z",
     "shell.execute_reply.started": "2021-06-09T16:33:30.824191Z"
    },
    "papermill": {
     "duration": 1.09118,
     "end_time": "2021-06-09T16:59:14.840144",
     "exception": false,
     "start_time": "2021-06-09T16:59:13.748964",
     "status": "completed"
    },
    "tags": []
   },
   "outputs": [
    {
     "name": "stdout",
     "output_type": "stream",
     "text": [
      "2834\n"
     ]
    }
   ],
   "source": [
    "linsear_write_formula_list = []\n",
    "for text in summary_df['excerpt']:\n",
    "    linsear_write_formula = textstat.linsear_write_formula(text)\n",
    "    linsear_write_formula_list.append(linsear_write_formula)\n",
    "print(len(linsear_write_formula_list))"
   ]
  },
  {
   "cell_type": "markdown",
   "id": "alternate-memory",
   "metadata": {
    "papermill": {
     "duration": 0.070716,
     "end_time": "2021-06-09T16:59:14.982907",
     "exception": false,
     "start_time": "2021-06-09T16:59:14.912191",
     "status": "completed"
    },
    "tags": []
   },
   "source": []
  },
  {
   "cell_type": "code",
   "execution_count": 30,
   "id": "bulgarian-samoa",
   "metadata": {
    "execution": {
     "iopub.execute_input": "2021-06-09T16:59:15.154227Z",
     "iopub.status.busy": "2021-06-09T16:59:15.138729Z",
     "iopub.status.idle": "2021-06-09T16:59:17.051767Z",
     "shell.execute_reply": "2021-06-09T16:59:17.052603Z",
     "shell.execute_reply.started": "2021-06-09T16:33:31.877563Z"
    },
    "papermill": {
     "duration": 1.996474,
     "end_time": "2021-06-09T16:59:17.052842",
     "exception": false,
     "start_time": "2021-06-09T16:59:15.056368",
     "status": "completed"
    },
    "tags": []
   },
   "outputs": [
    {
     "name": "stdout",
     "output_type": "stream",
     "text": [
      "2834\n"
     ]
    }
   ],
   "source": [
    "gunning_fog_list = []\n",
    "for text in summary_df['excerpt']:\n",
    "    gunning_fog = textstat.gunning_fog(text)\n",
    "    gunning_fog_list.append(gunning_fog)\n",
    "print(len(gunning_fog_list))"
   ]
  },
  {
   "cell_type": "markdown",
   "id": "attempted-loading",
   "metadata": {
    "papermill": {
     "duration": 0.068811,
     "end_time": "2021-06-09T16:59:17.193918",
     "exception": false,
     "start_time": "2021-06-09T16:59:17.125107",
     "status": "completed"
    },
    "tags": []
   },
   "source": []
  },
  {
   "cell_type": "code",
   "execution_count": 31,
   "id": "civilian-agency",
   "metadata": {
    "execution": {
     "iopub.execute_input": "2021-06-09T16:59:17.364258Z",
     "iopub.status.busy": "2021-06-09T16:59:17.348798Z",
     "iopub.status.idle": "2021-06-09T16:59:18.995256Z",
     "shell.execute_reply": "2021-06-09T16:59:18.995834Z",
     "shell.execute_reply.started": "2021-06-09T16:33:33.564803Z"
    },
    "papermill": {
     "duration": 1.730955,
     "end_time": "2021-06-09T16:59:18.996000",
     "exception": false,
     "start_time": "2021-06-09T16:59:17.265045",
     "status": "completed"
    },
    "tags": []
   },
   "outputs": [
    {
     "name": "stdout",
     "output_type": "stream",
     "text": [
      "2834\n"
     ]
    }
   ],
   "source": [
    "flesch_reading_ease_list = []\n",
    "for text in summary_df['excerpt']:\n",
    "    flesch_reading_ease = textstat.flesch_reading_ease(text)\n",
    "    flesch_reading_ease_list.append(flesch_reading_ease)\n",
    "print(len(flesch_reading_ease_list))"
   ]
  },
  {
   "cell_type": "markdown",
   "id": "committed-popularity",
   "metadata": {
    "papermill": {
     "duration": 0.071301,
     "end_time": "2021-06-09T16:59:19.137495",
     "exception": false,
     "start_time": "2021-06-09T16:59:19.066194",
     "status": "completed"
    },
    "tags": []
   },
   "source": []
  },
  {
   "cell_type": "code",
   "execution_count": 32,
   "id": "enabling-discussion",
   "metadata": {
    "execution": {
     "iopub.execute_input": "2021-06-09T16:59:19.325003Z",
     "iopub.status.busy": "2021-06-09T16:59:19.309469Z",
     "iopub.status.idle": "2021-06-09T16:59:21.051549Z",
     "shell.execute_reply": "2021-06-09T16:59:21.052791Z",
     "shell.execute_reply.started": "2021-06-09T16:33:35.052064Z"
    },
    "papermill": {
     "duration": 1.844738,
     "end_time": "2021-06-09T16:59:21.053036",
     "exception": false,
     "start_time": "2021-06-09T16:59:19.208298",
     "status": "completed"
    },
    "tags": []
   },
   "outputs": [
    {
     "name": "stdout",
     "output_type": "stream",
     "text": [
      "2834\n"
     ]
    }
   ],
   "source": [
    "flesch_kincaid_grade_list = []\n",
    "for text in summary_df['excerpt']:\n",
    "    flesch_kincaid_grade = textstat.flesch_kincaid_grade(text)\n",
    "    flesch_kincaid_grade_list.append(flesch_kincaid_grade)\n",
    "print(len(flesch_kincaid_grade_list))"
   ]
  },
  {
   "cell_type": "markdown",
   "id": "direct-syndicate",
   "metadata": {
    "papermill": {
     "duration": 0.117606,
     "end_time": "2021-06-09T16:59:21.290282",
     "exception": false,
     "start_time": "2021-06-09T16:59:21.172676",
     "status": "completed"
    },
    "tags": []
   },
   "source": []
  },
  {
   "cell_type": "code",
   "execution_count": 33,
   "id": "purple-might",
   "metadata": {
    "execution": {
     "iopub.execute_input": "2021-06-09T16:59:21.552537Z",
     "iopub.status.busy": "2021-06-09T16:59:21.547147Z",
     "iopub.status.idle": "2021-06-09T16:59:22.688996Z",
     "shell.execute_reply": "2021-06-09T16:59:22.690539Z",
     "shell.execute_reply.started": "2021-06-09T16:33:36.555109Z"
    },
    "papermill": {
     "duration": 1.279997,
     "end_time": "2021-06-09T16:59:22.690725",
     "exception": false,
     "start_time": "2021-06-09T16:59:21.410728",
     "status": "completed"
    },
    "tags": []
   },
   "outputs": [
    {
     "name": "stdout",
     "output_type": "stream",
     "text": [
      "2834\n"
     ]
    }
   ],
   "source": [
    "difficult_words_list = []\n",
    "for text in summary_df['excerpt']:\n",
    "    difficult_words = textstat.difficult_words(text)\n",
    "    difficult_words_list.append(difficult_words)\n",
    "print(len(difficult_words_list))"
   ]
  },
  {
   "cell_type": "markdown",
   "id": "million-fruit",
   "metadata": {
    "papermill": {
     "duration": 0.072124,
     "end_time": "2021-06-09T16:59:22.835119",
     "exception": false,
     "start_time": "2021-06-09T16:59:22.762995",
     "status": "completed"
    },
    "tags": []
   },
   "source": []
  },
  {
   "cell_type": "markdown",
   "id": "alike-patent",
   "metadata": {
    "papermill": {
     "duration": 0.071163,
     "end_time": "2021-06-09T16:59:22.980760",
     "exception": false,
     "start_time": "2021-06-09T16:59:22.909597",
     "status": "completed"
    },
    "tags": []
   },
   "source": []
  },
  {
   "cell_type": "code",
   "execution_count": 34,
   "id": "present-bulgarian",
   "metadata": {
    "execution": {
     "iopub.execute_input": "2021-06-09T16:59:23.141409Z",
     "iopub.status.busy": "2021-06-09T16:59:23.140474Z",
     "iopub.status.idle": "2021-06-09T16:59:23.144840Z",
     "shell.execute_reply": "2021-06-09T16:59:23.144308Z",
     "shell.execute_reply.started": "2021-06-09T16:33:37.703937Z"
    },
    "papermill": {
     "duration": 0.093082,
     "end_time": "2021-06-09T16:59:23.144969",
     "exception": false,
     "start_time": "2021-06-09T16:59:23.051887",
     "status": "completed"
    },
    "tags": []
   },
   "outputs": [],
   "source": [
    "summary_df['dale_chall_list'] = dale_chall_list\n",
    "summary_df['coleman_liau_list'] = coleman_liau_list\n",
    "summary_df['smog_index_list'] = smog_index_list\n",
    "summary_df['automated_readability_index_list'] = automated_readability_index_list\n",
    "summary_df['linsear_write_formula_list'] = linsear_write_formula_list\n",
    "summary_df ['gunning_fog_list'] = gunning_fog_list\n",
    "summary_df['flesch_reading_ease_list'] = flesch_reading_ease_list\n",
    "summary_df['flesch_kincaid_grade_list'] = flesch_kincaid_grade_list\n",
    "summary_df['flesch_kincaid_grade_list'] = flesch_kincaid_grade_list"
   ]
  },
  {
   "cell_type": "code",
   "execution_count": 35,
   "id": "desperate-lexington",
   "metadata": {
    "execution": {
     "iopub.execute_input": "2021-06-09T16:59:23.298481Z",
     "iopub.status.busy": "2021-06-09T16:59:23.297288Z",
     "iopub.status.idle": "2021-06-09T16:59:23.338479Z",
     "shell.execute_reply": "2021-06-09T16:59:23.339000Z",
     "shell.execute_reply.started": "2021-06-09T16:33:37.725911Z"
    },
    "papermill": {
     "duration": 0.12309,
     "end_time": "2021-06-09T16:59:23.339160",
     "exception": false,
     "start_time": "2021-06-09T16:59:23.216070",
     "status": "completed"
    },
    "tags": []
   },
   "outputs": [
    {
     "data": {
      "text/html": [
       "<div>\n",
       "<style scoped>\n",
       "    .dataframe tbody tr th:only-of-type {\n",
       "        vertical-align: middle;\n",
       "    }\n",
       "\n",
       "    .dataframe tbody tr th {\n",
       "        vertical-align: top;\n",
       "    }\n",
       "\n",
       "    .dataframe thead th {\n",
       "        text-align: right;\n",
       "    }\n",
       "</style>\n",
       "<table border=\"1\" class=\"dataframe\">\n",
       "  <thead>\n",
       "    <tr style=\"text-align: right;\">\n",
       "      <th></th>\n",
       "      <th>id</th>\n",
       "      <th>excerpt</th>\n",
       "      <th>target</th>\n",
       "      <th>standard_error</th>\n",
       "      <th>no_sen</th>\n",
       "      <th>no_word</th>\n",
       "      <th>average_word_sen</th>\n",
       "      <th>letter_count</th>\n",
       "      <th>count_unique_word</th>\n",
       "      <th>count_non_stop</th>\n",
       "      <th>...</th>\n",
       "      <th>max_pass_len</th>\n",
       "      <th>min_pass_len</th>\n",
       "      <th>dale_chall_list</th>\n",
       "      <th>coleman_liau_list</th>\n",
       "      <th>smog_index_list</th>\n",
       "      <th>automated_readability_index_list</th>\n",
       "      <th>linsear_write_formula_list</th>\n",
       "      <th>gunning_fog_list</th>\n",
       "      <th>flesch_reading_ease_list</th>\n",
       "      <th>flesch_kincaid_grade_list</th>\n",
       "    </tr>\n",
       "  </thead>\n",
       "  <tbody>\n",
       "    <tr>\n",
       "      <th>0</th>\n",
       "      <td>c12129c31</td>\n",
       "      <td>When the young people returned to the ballroom...</td>\n",
       "      <td>-0.340259</td>\n",
       "      <td>0.464009</td>\n",
       "      <td>11</td>\n",
       "      <td>787</td>\n",
       "      <td>71.545455</td>\n",
       "      <td>2184812</td>\n",
       "      <td>110</td>\n",
       "      <td>84</td>\n",
       "      <td>...</td>\n",
       "      <td>92</td>\n",
       "      <td>108</td>\n",
       "      <td>6.65</td>\n",
       "      <td>8.06</td>\n",
       "      <td>8.6</td>\n",
       "      <td>8.3</td>\n",
       "      <td>9.000000</td>\n",
       "      <td>8.31</td>\n",
       "      <td>80.31</td>\n",
       "      <td>6.1</td>\n",
       "    </tr>\n",
       "    <tr>\n",
       "      <th>1</th>\n",
       "      <td>85aa80a4c</td>\n",
       "      <td>All through dinner time, Mrs. Fayre was somewh...</td>\n",
       "      <td>-0.315372</td>\n",
       "      <td>0.480805</td>\n",
       "      <td>10</td>\n",
       "      <td>1500</td>\n",
       "      <td>150.000000</td>\n",
       "      <td>2184812</td>\n",
       "      <td>206</td>\n",
       "      <td>167</td>\n",
       "      <td>...</td>\n",
       "      <td>17</td>\n",
       "      <td>92</td>\n",
       "      <td>5.92</td>\n",
       "      <td>6.78</td>\n",
       "      <td>8.3</td>\n",
       "      <td>7.2</td>\n",
       "      <td>7.285714</td>\n",
       "      <td>7.53</td>\n",
       "      <td>82.54</td>\n",
       "      <td>5.2</td>\n",
       "    </tr>\n",
       "    <tr>\n",
       "      <th>2</th>\n",
       "      <td>b69ac6792</td>\n",
       "      <td>As Roger had predicted, the snow departed as q...</td>\n",
       "      <td>-0.580118</td>\n",
       "      <td>0.476676</td>\n",
       "      <td>11</td>\n",
       "      <td>2196</td>\n",
       "      <td>199.636364</td>\n",
       "      <td>2184812</td>\n",
       "      <td>288</td>\n",
       "      <td>237</td>\n",
       "      <td>...</td>\n",
       "      <td>53</td>\n",
       "      <td>37</td>\n",
       "      <td>6.29</td>\n",
       "      <td>7.20</td>\n",
       "      <td>10.1</td>\n",
       "      <td>10.1</td>\n",
       "      <td>14.750000</td>\n",
       "      <td>10.49</td>\n",
       "      <td>75.74</td>\n",
       "      <td>7.9</td>\n",
       "    </tr>\n",
       "    <tr>\n",
       "      <th>3</th>\n",
       "      <td>dd1000b26</td>\n",
       "      <td>And outside before the palace a great garden w...</td>\n",
       "      <td>-1.054013</td>\n",
       "      <td>0.450007</td>\n",
       "      <td>5</td>\n",
       "      <td>2909</td>\n",
       "      <td>581.800000</td>\n",
       "      <td>2184812</td>\n",
       "      <td>371</td>\n",
       "      <td>313</td>\n",
       "      <td>...</td>\n",
       "      <td>60</td>\n",
       "      <td>205</td>\n",
       "      <td>6.61</td>\n",
       "      <td>8.54</td>\n",
       "      <td>6.7</td>\n",
       "      <td>16.4</td>\n",
       "      <td>12.500000</td>\n",
       "      <td>13.61</td>\n",
       "      <td>72.02</td>\n",
       "      <td>11.4</td>\n",
       "    </tr>\n",
       "    <tr>\n",
       "      <th>4</th>\n",
       "      <td>37c1b32fb</td>\n",
       "      <td>Once upon a time there were Three Bears who li...</td>\n",
       "      <td>0.247197</td>\n",
       "      <td>0.510845</td>\n",
       "      <td>5</td>\n",
       "      <td>3454</td>\n",
       "      <td>690.800000</td>\n",
       "      <td>2184812</td>\n",
       "      <td>397</td>\n",
       "      <td>338</td>\n",
       "      <td>...</td>\n",
       "      <td>171</td>\n",
       "      <td>168</td>\n",
       "      <td>1.57</td>\n",
       "      <td>4.83</td>\n",
       "      <td>8.8</td>\n",
       "      <td>11.8</td>\n",
       "      <td>13.500000</td>\n",
       "      <td>11.76</td>\n",
       "      <td>75.47</td>\n",
       "      <td>10.0</td>\n",
       "    </tr>\n",
       "    <tr>\n",
       "      <th>...</th>\n",
       "      <td>...</td>\n",
       "      <td>...</td>\n",
       "      <td>...</td>\n",
       "      <td>...</td>\n",
       "      <td>...</td>\n",
       "      <td>...</td>\n",
       "      <td>...</td>\n",
       "      <td>...</td>\n",
       "      <td>...</td>\n",
       "      <td>...</td>\n",
       "      <td>...</td>\n",
       "      <td>...</td>\n",
       "      <td>...</td>\n",
       "      <td>...</td>\n",
       "      <td>...</td>\n",
       "      <td>...</td>\n",
       "      <td>...</td>\n",
       "      <td>...</td>\n",
       "      <td>...</td>\n",
       "      <td>...</td>\n",
       "      <td>...</td>\n",
       "    </tr>\n",
       "    <tr>\n",
       "      <th>2829</th>\n",
       "      <td>25ca8f498</td>\n",
       "      <td>When you think of dinosaurs and where they liv...</td>\n",
       "      <td>1.711390</td>\n",
       "      <td>0.646900</td>\n",
       "      <td>10</td>\n",
       "      <td>2181989</td>\n",
       "      <td>218198.900000</td>\n",
       "      <td>2184812</td>\n",
       "      <td>29971</td>\n",
       "      <td>32798</td>\n",
       "      <td>...</td>\n",
       "      <td>70</td>\n",
       "      <td>49</td>\n",
       "      <td>6.37</td>\n",
       "      <td>10.88</td>\n",
       "      <td>8.4</td>\n",
       "      <td>8.8</td>\n",
       "      <td>5.222222</td>\n",
       "      <td>6.69</td>\n",
       "      <td>77.03</td>\n",
       "      <td>5.3</td>\n",
       "    </tr>\n",
       "    <tr>\n",
       "      <th>2830</th>\n",
       "      <td>2c26db523</td>\n",
       "      <td>So what is a solid? Solids are usually hard be...</td>\n",
       "      <td>0.189476</td>\n",
       "      <td>0.535648</td>\n",
       "      <td>13</td>\n",
       "      <td>2182697</td>\n",
       "      <td>167899.769231</td>\n",
       "      <td>2184812</td>\n",
       "      <td>29973</td>\n",
       "      <td>32800</td>\n",
       "      <td>...</td>\n",
       "      <td>54</td>\n",
       "      <td>67</td>\n",
       "      <td>5.95</td>\n",
       "      <td>6.59</td>\n",
       "      <td>8.4</td>\n",
       "      <td>5.3</td>\n",
       "      <td>4.700000</td>\n",
       "      <td>6.39</td>\n",
       "      <td>84.98</td>\n",
       "      <td>4.3</td>\n",
       "    </tr>\n",
       "    <tr>\n",
       "      <th>2831</th>\n",
       "      <td>cd19e2350</td>\n",
       "      <td>The second state of matter we will discuss is ...</td>\n",
       "      <td>0.255209</td>\n",
       "      <td>0.483866</td>\n",
       "      <td>16</td>\n",
       "      <td>2183432</td>\n",
       "      <td>136464.500000</td>\n",
       "      <td>2184812</td>\n",
       "      <td>29975</td>\n",
       "      <td>32803</td>\n",
       "      <td>...</td>\n",
       "      <td>23</td>\n",
       "      <td>45</td>\n",
       "      <td>5.52</td>\n",
       "      <td>3.98</td>\n",
       "      <td>7.3</td>\n",
       "      <td>3.0</td>\n",
       "      <td>4.090909</td>\n",
       "      <td>5.95</td>\n",
       "      <td>85.49</td>\n",
       "      <td>4.1</td>\n",
       "    </tr>\n",
       "    <tr>\n",
       "      <th>2832</th>\n",
       "      <td>15e2e9e7a</td>\n",
       "      <td>Solids are shapes that you can actually touch....</td>\n",
       "      <td>-0.215279</td>\n",
       "      <td>0.514128</td>\n",
       "      <td>12</td>\n",
       "      <td>2184114</td>\n",
       "      <td>182009.500000</td>\n",
       "      <td>2184812</td>\n",
       "      <td>29985</td>\n",
       "      <td>32812</td>\n",
       "      <td>...</td>\n",
       "      <td>90</td>\n",
       "      <td>73</td>\n",
       "      <td>6.68</td>\n",
       "      <td>8.34</td>\n",
       "      <td>8.1</td>\n",
       "      <td>7.3</td>\n",
       "      <td>5.444444</td>\n",
       "      <td>6.87</td>\n",
       "      <td>84.17</td>\n",
       "      <td>4.6</td>\n",
       "    </tr>\n",
       "    <tr>\n",
       "      <th>2833</th>\n",
       "      <td>5b990ba77</td>\n",
       "      <td>Animals are made of many cells. They eat thing...</td>\n",
       "      <td>0.300779</td>\n",
       "      <td>0.512379</td>\n",
       "      <td>13</td>\n",
       "      <td>2184812</td>\n",
       "      <td>168062.461538</td>\n",
       "      <td>2184812</td>\n",
       "      <td>29988</td>\n",
       "      <td>32815</td>\n",
       "      <td>...</td>\n",
       "      <td>56</td>\n",
       "      <td>37</td>\n",
       "      <td>6.14</td>\n",
       "      <td>9.43</td>\n",
       "      <td>10.9</td>\n",
       "      <td>8.2</td>\n",
       "      <td>5.000000</td>\n",
       "      <td>6.12</td>\n",
       "      <td>68.57</td>\n",
       "      <td>6.5</td>\n",
       "    </tr>\n",
       "  </tbody>\n",
       "</table>\n",
       "<p>2834 rows × 21 columns</p>\n",
       "</div>"
      ],
      "text/plain": [
       "             id                                            excerpt    target  \\\n",
       "0     c12129c31  When the young people returned to the ballroom... -0.340259   \n",
       "1     85aa80a4c  All through dinner time, Mrs. Fayre was somewh... -0.315372   \n",
       "2     b69ac6792  As Roger had predicted, the snow departed as q... -0.580118   \n",
       "3     dd1000b26  And outside before the palace a great garden w... -1.054013   \n",
       "4     37c1b32fb  Once upon a time there were Three Bears who li...  0.247197   \n",
       "...         ...                                                ...       ...   \n",
       "2829  25ca8f498  When you think of dinosaurs and where they liv...  1.711390   \n",
       "2830  2c26db523  So what is a solid? Solids are usually hard be...  0.189476   \n",
       "2831  cd19e2350  The second state of matter we will discuss is ...  0.255209   \n",
       "2832  15e2e9e7a  Solids are shapes that you can actually touch.... -0.215279   \n",
       "2833  5b990ba77  Animals are made of many cells. They eat thing...  0.300779   \n",
       "\n",
       "      standard_error  no_sen  no_word  average_word_sen  letter_count  \\\n",
       "0           0.464009      11      787         71.545455       2184812   \n",
       "1           0.480805      10     1500        150.000000       2184812   \n",
       "2           0.476676      11     2196        199.636364       2184812   \n",
       "3           0.450007       5     2909        581.800000       2184812   \n",
       "4           0.510845       5     3454        690.800000       2184812   \n",
       "...              ...     ...      ...               ...           ...   \n",
       "2829        0.646900      10  2181989     218198.900000       2184812   \n",
       "2830        0.535648      13  2182697     167899.769231       2184812   \n",
       "2831        0.483866      16  2183432     136464.500000       2184812   \n",
       "2832        0.514128      12  2184114     182009.500000       2184812   \n",
       "2833        0.512379      13  2184812     168062.461538       2184812   \n",
       "\n",
       "      count_unique_word  count_non_stop  ...  max_pass_len  min_pass_len  \\\n",
       "0                   110              84  ...            92           108   \n",
       "1                   206             167  ...            17            92   \n",
       "2                   288             237  ...            53            37   \n",
       "3                   371             313  ...            60           205   \n",
       "4                   397             338  ...           171           168   \n",
       "...                 ...             ...  ...           ...           ...   \n",
       "2829              29971           32798  ...            70            49   \n",
       "2830              29973           32800  ...            54            67   \n",
       "2831              29975           32803  ...            23            45   \n",
       "2832              29985           32812  ...            90            73   \n",
       "2833              29988           32815  ...            56            37   \n",
       "\n",
       "      dale_chall_list  coleman_liau_list  smog_index_list  \\\n",
       "0                6.65               8.06              8.6   \n",
       "1                5.92               6.78              8.3   \n",
       "2                6.29               7.20             10.1   \n",
       "3                6.61               8.54              6.7   \n",
       "4                1.57               4.83              8.8   \n",
       "...               ...                ...              ...   \n",
       "2829             6.37              10.88              8.4   \n",
       "2830             5.95               6.59              8.4   \n",
       "2831             5.52               3.98              7.3   \n",
       "2832             6.68               8.34              8.1   \n",
       "2833             6.14               9.43             10.9   \n",
       "\n",
       "      automated_readability_index_list  linsear_write_formula_list  \\\n",
       "0                                  8.3                    9.000000   \n",
       "1                                  7.2                    7.285714   \n",
       "2                                 10.1                   14.750000   \n",
       "3                                 16.4                   12.500000   \n",
       "4                                 11.8                   13.500000   \n",
       "...                                ...                         ...   \n",
       "2829                               8.8                    5.222222   \n",
       "2830                               5.3                    4.700000   \n",
       "2831                               3.0                    4.090909   \n",
       "2832                               7.3                    5.444444   \n",
       "2833                               8.2                    5.000000   \n",
       "\n",
       "      gunning_fog_list  flesch_reading_ease_list  flesch_kincaid_grade_list  \n",
       "0                 8.31                     80.31                        6.1  \n",
       "1                 7.53                     82.54                        5.2  \n",
       "2                10.49                     75.74                        7.9  \n",
       "3                13.61                     72.02                       11.4  \n",
       "4                11.76                     75.47                       10.0  \n",
       "...                ...                       ...                        ...  \n",
       "2829              6.69                     77.03                        5.3  \n",
       "2830              6.39                     84.98                        4.3  \n",
       "2831              5.95                     85.49                        4.1  \n",
       "2832              6.87                     84.17                        4.6  \n",
       "2833              6.12                     68.57                        6.5  \n",
       "\n",
       "[2834 rows x 21 columns]"
      ]
     },
     "execution_count": 35,
     "metadata": {},
     "output_type": "execute_result"
    }
   ],
   "source": [
    "summary_df"
   ]
  },
  {
   "cell_type": "code",
   "execution_count": 36,
   "id": "solid-reunion",
   "metadata": {
    "execution": {
     "iopub.execute_input": "2021-06-09T16:59:23.490659Z",
     "iopub.status.busy": "2021-06-09T16:59:23.489974Z",
     "iopub.status.idle": "2021-06-09T16:59:25.726554Z",
     "shell.execute_reply": "2021-06-09T16:59:25.727209Z",
     "shell.execute_reply.started": "2021-06-09T16:33:37.780117Z"
    },
    "papermill": {
     "duration": 2.315944,
     "end_time": "2021-06-09T16:59:25.727377",
     "exception": false,
     "start_time": "2021-06-09T16:59:23.411433",
     "status": "completed"
    },
    "tags": []
   },
   "outputs": [
    {
     "data": {
      "text/plain": [
       "<AxesSubplot:>"
      ]
     },
     "execution_count": 36,
     "metadata": {},
     "output_type": "execute_result"
    },
    {
     "data": {
      "image/png": "[encoded data removed]",
      "text/plain": [
       "<Figure size 1440x1440 with 2 Axes>"
      ]
     },
     "metadata": {
      "needs_background": "light"
     },
     "output_type": "display_data"
    }
   ],
   "source": [
    "fig = plt.figure(figsize=(20,20))\n",
    "sns.heatmap(summary_df.corr(), annot = True)"
   ]
  },
  {
   "cell_type": "code",
   "execution_count": 37,
   "id": "boxed-marketplace",
   "metadata": {
    "execution": {
     "iopub.execute_input": "2021-06-09T16:59:25.886483Z",
     "iopub.status.busy": "2021-06-09T16:59:25.885371Z",
     "iopub.status.idle": "2021-06-09T16:59:25.890488Z",
     "shell.execute_reply": "2021-06-09T16:59:25.889911Z",
     "shell.execute_reply.started": "2021-06-09T16:33:39.711902Z"
    },
    "papermill": {
     "duration": 0.086103,
     "end_time": "2021-06-09T16:59:25.890613",
     "exception": false,
     "start_time": "2021-06-09T16:59:25.804510",
     "status": "completed"
    },
    "tags": []
   },
   "outputs": [],
   "source": [
    "summary_df = summary_df.drop(columns=['no_sen','no_word', 'dale_chall_list', 'smog_index_list', 'count_non_stop', 'letter_count', 'flesch_reading_ease_list', 'automated_readability_index_list', 'gunning_fog_list', 'flesch_kincaid_grade_list'])"
   ]
  },
  {
   "cell_type": "code",
   "execution_count": 38,
   "id": "demonstrated-heritage",
   "metadata": {
    "execution": {
     "iopub.execute_input": "2021-06-09T16:59:26.053788Z",
     "iopub.status.busy": "2021-06-09T16:59:26.052787Z",
     "iopub.status.idle": "2021-06-09T16:59:26.891348Z",
     "shell.execute_reply": "2021-06-09T16:59:26.890747Z",
     "shell.execute_reply.started": "2021-06-09T16:33:39.720691Z"
    },
    "papermill": {
     "duration": 0.924092,
     "end_time": "2021-06-09T16:59:26.891544",
     "exception": false,
     "start_time": "2021-06-09T16:59:25.967452",
     "status": "completed"
    },
    "tags": []
   },
   "outputs": [
    {
     "data": {
      "text/plain": [
       "<AxesSubplot:>"
      ]
     },
     "execution_count": 38,
     "metadata": {},
     "output_type": "execute_result"
    },
    {
     "data": {
      "image/png": "[encoded data removed]",
      "text/plain": [
       "<Figure size 1440x1440 with 2 Axes>"
      ]
     },
     "metadata": {
      "needs_background": "light"
     },
     "output_type": "display_data"
    }
   ],
   "source": [
    "fig = plt.figure(figsize=(20,20))\n",
    "sns.heatmap(summary_df.corr(), annot = True)"
   ]
  },
  {
   "cell_type": "markdown",
   "id": "considered-metropolitan",
   "metadata": {
    "papermill": {
     "duration": 0.112372,
     "end_time": "2021-06-09T16:59:27.084080",
     "exception": false,
     "start_time": "2021-06-09T16:59:26.971708",
     "status": "completed"
    },
    "tags": []
   },
   "source": [
    "# Model Building"
   ]
  },
  {
   "cell_type": "code",
   "execution_count": 39,
   "id": "lightweight-intelligence",
   "metadata": {
    "execution": {
     "iopub.execute_input": "2021-06-09T16:59:27.381684Z",
     "iopub.status.busy": "2021-06-09T16:59:27.380355Z",
     "iopub.status.idle": "2021-06-09T16:59:27.384568Z",
     "shell.execute_reply": "2021-06-09T16:59:27.385841Z",
     "shell.execute_reply.started": "2021-06-09T16:33:40.500044Z"
    },
    "papermill": {
     "duration": 0.149351,
     "end_time": "2021-06-09T16:59:27.386064",
     "exception": false,
     "start_time": "2021-06-09T16:59:27.236713",
     "status": "completed"
    },
    "tags": []
   },
   "outputs": [],
   "source": [
    "def tokenize_def(text):\n",
    "    text = re.sub(r'[^\\w\\s]','',text)\n",
    "    tokens = word_tokenize(text)\n",
    "    lemmatizer = WordNetLemmatizer()\n",
    "\n",
    "    clean_tokens = []\n",
    "    for tok in tokens:\n",
    "        clean_tok = lemmatizer.lemmatize(tok).lower().strip()\n",
    "        clean_tokens.append(clean_tok)\n",
    "\n",
    "    return clean_tokens"
   ]
  },
  {
   "cell_type": "code",
   "execution_count": 40,
   "id": "overhead-welsh",
   "metadata": {
    "execution": {
     "iopub.execute_input": "2021-06-09T16:59:27.666717Z",
     "iopub.status.busy": "2021-06-09T16:59:27.665515Z",
     "iopub.status.idle": "2021-06-09T16:59:27.669020Z",
     "shell.execute_reply": "2021-06-09T16:59:27.669566Z",
     "shell.execute_reply.started": "2021-06-09T16:33:40.509416Z"
    },
    "papermill": {
     "duration": 0.147909,
     "end_time": "2021-06-09T16:59:27.669764",
     "exception": false,
     "start_time": "2021-06-09T16:59:27.521855",
     "status": "completed"
    },
    "tags": []
   },
   "outputs": [],
   "source": [
    "kf = KFold(n_splits=10, random_state= 42, shuffle= True)\n",
    "vect = CountVectorizer(tokenizer=tokenize_def)\n",
    "tfidf = TfidfTransformer()\n",
    "clf = RandomForestRegressor()\n",
    "lgb = LGBMRegressor(max_depth = 2, num_leaves = 50, learning_rate = 0.05)\n",
    "xgb = XGBRegressor()\n",
    "svd = TruncatedSVD(n_components=10, n_iter=10, random_state=42)\n",
    "lasso = Lasso()\n",
    "ridge = Ridge()"
   ]
  },
  {
   "cell_type": "code",
   "execution_count": 41,
   "id": "rubber-bracket",
   "metadata": {
    "execution": {
     "iopub.execute_input": "2021-06-09T16:59:27.840522Z",
     "iopub.status.busy": "2021-06-09T16:59:27.838134Z",
     "iopub.status.idle": "2021-06-09T16:59:36.557706Z",
     "shell.execute_reply": "2021-06-09T16:59:36.557111Z",
     "shell.execute_reply.started": "2021-06-09T16:33:40.524001Z"
    },
    "papermill": {
     "duration": 8.803474,
     "end_time": "2021-06-09T16:59:36.557875",
     "exception": false,
     "start_time": "2021-06-09T16:59:27.754401",
     "status": "completed"
    },
    "tags": []
   },
   "outputs": [],
   "source": [
    "summary_df_vect = vect.fit_transform(summary_df['excerpt'])"
   ]
  },
  {
   "cell_type": "code",
   "execution_count": 42,
   "id": "desirable-california",
   "metadata": {
    "execution": {
     "iopub.execute_input": "2021-06-09T16:59:36.724014Z",
     "iopub.status.busy": "2021-06-09T16:59:36.723325Z",
     "iopub.status.idle": "2021-06-09T16:59:36.757341Z",
     "shell.execute_reply": "2021-06-09T16:59:36.756506Z",
     "shell.execute_reply.started": "2021-06-09T16:33:47.735531Z"
    },
    "papermill": {
     "duration": 0.118543,
     "end_time": "2021-06-09T16:59:36.757533",
     "exception": false,
     "start_time": "2021-06-09T16:59:36.638990",
     "status": "completed"
    },
    "tags": []
   },
   "outputs": [],
   "source": [
    "summary_df_tfidf = tfidf.fit_transform(summary_df_vect)"
   ]
  },
  {
   "cell_type": "code",
   "execution_count": 43,
   "id": "prime-assault",
   "metadata": {
    "execution": {
     "iopub.execute_input": "2021-06-09T16:59:36.921237Z",
     "iopub.status.busy": "2021-06-09T16:59:36.920315Z",
     "iopub.status.idle": "2021-06-09T16:59:37.388859Z",
     "shell.execute_reply": "2021-06-09T16:59:37.390132Z",
     "shell.execute_reply.started": "2021-06-09T16:33:47.765065Z"
    },
    "papermill": {
     "duration": 0.553581,
     "end_time": "2021-06-09T16:59:37.390450",
     "exception": false,
     "start_time": "2021-06-09T16:59:36.836869",
     "status": "completed"
    },
    "tags": []
   },
   "outputs": [],
   "source": [
    "summary_df_svd = svd.fit_transform(summary_df_tfidf)"
   ]
  },
  {
   "cell_type": "code",
   "execution_count": 44,
   "id": "attractive-experiment",
   "metadata": {
    "execution": {
     "iopub.execute_input": "2021-06-09T16:59:37.625389Z",
     "iopub.status.busy": "2021-06-09T16:59:37.624396Z",
     "iopub.status.idle": "2021-06-09T16:59:37.626693Z",
     "shell.execute_reply": "2021-06-09T16:59:37.627248Z",
     "shell.execute_reply.started": "2021-06-09T16:33:48.270817Z"
    },
    "papermill": {
     "duration": 0.09266,
     "end_time": "2021-06-09T16:59:37.627464",
     "exception": false,
     "start_time": "2021-06-09T16:59:37.534804",
     "status": "completed"
    },
    "tags": []
   },
   "outputs": [],
   "source": [
    "summary_df_svd = pd.DataFrame(summary_df_svd)"
   ]
  },
  {
   "cell_type": "code",
   "execution_count": 45,
   "id": "incorrect-beijing",
   "metadata": {
    "execution": {
     "iopub.execute_input": "2021-06-09T16:59:37.796356Z",
     "iopub.status.busy": "2021-06-09T16:59:37.795230Z",
     "iopub.status.idle": "2021-06-09T16:59:37.833205Z",
     "shell.execute_reply": "2021-06-09T16:59:37.833775Z",
     "shell.execute_reply.started": "2021-06-09T16:33:48.283033Z"
    },
    "papermill": {
     "duration": 0.125659,
     "end_time": "2021-06-09T16:59:37.833923",
     "exception": false,
     "start_time": "2021-06-09T16:59:37.708264",
     "status": "completed"
    },
    "tags": []
   },
   "outputs": [
    {
     "data": {
      "text/html": [
       "<div>\n",
       "<style scoped>\n",
       "    .dataframe tbody tr th:only-of-type {\n",
       "        vertical-align: middle;\n",
       "    }\n",
       "\n",
       "    .dataframe tbody tr th {\n",
       "        vertical-align: top;\n",
       "    }\n",
       "\n",
       "    .dataframe thead th {\n",
       "        text-align: right;\n",
       "    }\n",
       "</style>\n",
       "<table border=\"1\" class=\"dataframe\">\n",
       "  <thead>\n",
       "    <tr style=\"text-align: right;\">\n",
       "      <th></th>\n",
       "      <th>id</th>\n",
       "      <th>excerpt</th>\n",
       "      <th>target</th>\n",
       "      <th>standard_error</th>\n",
       "      <th>average_word_sen</th>\n",
       "      <th>count_unique_word</th>\n",
       "      <th>passage_length</th>\n",
       "      <th>max_pass_len</th>\n",
       "      <th>min_pass_len</th>\n",
       "      <th>coleman_liau_list</th>\n",
       "      <th>...</th>\n",
       "      <th>0</th>\n",
       "      <th>1</th>\n",
       "      <th>2</th>\n",
       "      <th>3</th>\n",
       "      <th>4</th>\n",
       "      <th>5</th>\n",
       "      <th>6</th>\n",
       "      <th>7</th>\n",
       "      <th>8</th>\n",
       "      <th>9</th>\n",
       "    </tr>\n",
       "  </thead>\n",
       "  <tbody>\n",
       "    <tr>\n",
       "      <th>0</th>\n",
       "      <td>c12129c31</td>\n",
       "      <td>When the young people returned to the ballroom...</td>\n",
       "      <td>-0.340259</td>\n",
       "      <td>0.464009</td>\n",
       "      <td>71.545455</td>\n",
       "      <td>110</td>\n",
       "      <td>992</td>\n",
       "      <td>92</td>\n",
       "      <td>108</td>\n",
       "      <td>8.06</td>\n",
       "      <td>...</td>\n",
       "      <td>0.382786</td>\n",
       "      <td>-0.070226</td>\n",
       "      <td>-0.005849</td>\n",
       "      <td>-0.105997</td>\n",
       "      <td>0.095568</td>\n",
       "      <td>-0.054425</td>\n",
       "      <td>0.059924</td>\n",
       "      <td>-0.028584</td>\n",
       "      <td>0.009778</td>\n",
       "      <td>0.087587</td>\n",
       "    </tr>\n",
       "    <tr>\n",
       "      <th>1</th>\n",
       "      <td>85aa80a4c</td>\n",
       "      <td>All through dinner time, Mrs. Fayre was somewh...</td>\n",
       "      <td>-0.315372</td>\n",
       "      <td>0.480805</td>\n",
       "      <td>150.000000</td>\n",
       "      <td>206</td>\n",
       "      <td>937</td>\n",
       "      <td>17</td>\n",
       "      <td>92</td>\n",
       "      <td>6.78</td>\n",
       "      <td>...</td>\n",
       "      <td>0.279451</td>\n",
       "      <td>0.190501</td>\n",
       "      <td>0.257381</td>\n",
       "      <td>0.168774</td>\n",
       "      <td>0.053410</td>\n",
       "      <td>0.008033</td>\n",
       "      <td>-0.083013</td>\n",
       "      <td>0.099538</td>\n",
       "      <td>-0.074491</td>\n",
       "      <td>0.025380</td>\n",
       "    </tr>\n",
       "    <tr>\n",
       "      <th>2</th>\n",
       "      <td>b69ac6792</td>\n",
       "      <td>As Roger had predicted, the snow departed as q...</td>\n",
       "      <td>-0.580118</td>\n",
       "      <td>0.476676</td>\n",
       "      <td>199.636364</td>\n",
       "      <td>288</td>\n",
       "      <td>908</td>\n",
       "      <td>53</td>\n",
       "      <td>37</td>\n",
       "      <td>7.20</td>\n",
       "      <td>...</td>\n",
       "      <td>0.273621</td>\n",
       "      <td>0.119080</td>\n",
       "      <td>0.060120</td>\n",
       "      <td>0.050572</td>\n",
       "      <td>0.018900</td>\n",
       "      <td>-0.023279</td>\n",
       "      <td>-0.017135</td>\n",
       "      <td>0.011043</td>\n",
       "      <td>-0.053624</td>\n",
       "      <td>0.054195</td>\n",
       "    </tr>\n",
       "    <tr>\n",
       "      <th>3</th>\n",
       "      <td>dd1000b26</td>\n",
       "      <td>And outside before the palace a great garden w...</td>\n",
       "      <td>-1.054013</td>\n",
       "      <td>0.450007</td>\n",
       "      <td>581.800000</td>\n",
       "      <td>371</td>\n",
       "      <td>909</td>\n",
       "      <td>60</td>\n",
       "      <td>205</td>\n",
       "      <td>8.54</td>\n",
       "      <td>...</td>\n",
       "      <td>0.318070</td>\n",
       "      <td>0.049144</td>\n",
       "      <td>-0.038582</td>\n",
       "      <td>-0.104894</td>\n",
       "      <td>0.034324</td>\n",
       "      <td>-0.069941</td>\n",
       "      <td>-0.000931</td>\n",
       "      <td>-0.050152</td>\n",
       "      <td>-0.029048</td>\n",
       "      <td>-0.014829</td>\n",
       "    </tr>\n",
       "    <tr>\n",
       "      <th>4</th>\n",
       "      <td>37c1b32fb</td>\n",
       "      <td>Once upon a time there were Three Bears who li...</td>\n",
       "      <td>0.247197</td>\n",
       "      <td>0.510845</td>\n",
       "      <td>690.800000</td>\n",
       "      <td>397</td>\n",
       "      <td>723</td>\n",
       "      <td>171</td>\n",
       "      <td>168</td>\n",
       "      <td>4.83</td>\n",
       "      <td>...</td>\n",
       "      <td>0.227382</td>\n",
       "      <td>0.011863</td>\n",
       "      <td>-0.002065</td>\n",
       "      <td>-0.029747</td>\n",
       "      <td>0.008820</td>\n",
       "      <td>-0.034770</td>\n",
       "      <td>0.085264</td>\n",
       "      <td>-0.108286</td>\n",
       "      <td>-0.058926</td>\n",
       "      <td>0.088319</td>\n",
       "    </tr>\n",
       "    <tr>\n",
       "      <th>...</th>\n",
       "      <td>...</td>\n",
       "      <td>...</td>\n",
       "      <td>...</td>\n",
       "      <td>...</td>\n",
       "      <td>...</td>\n",
       "      <td>...</td>\n",
       "      <td>...</td>\n",
       "      <td>...</td>\n",
       "      <td>...</td>\n",
       "      <td>...</td>\n",
       "      <td>...</td>\n",
       "      <td>...</td>\n",
       "      <td>...</td>\n",
       "      <td>...</td>\n",
       "      <td>...</td>\n",
       "      <td>...</td>\n",
       "      <td>...</td>\n",
       "      <td>...</td>\n",
       "      <td>...</td>\n",
       "      <td>...</td>\n",
       "      <td>...</td>\n",
       "    </tr>\n",
       "    <tr>\n",
       "      <th>2829</th>\n",
       "      <td>25ca8f498</td>\n",
       "      <td>When you think of dinosaurs and where they liv...</td>\n",
       "      <td>1.711390</td>\n",
       "      <td>0.646900</td>\n",
       "      <td>218198.900000</td>\n",
       "      <td>29971</td>\n",
       "      <td>901</td>\n",
       "      <td>70</td>\n",
       "      <td>49</td>\n",
       "      <td>10.88</td>\n",
       "      <td>...</td>\n",
       "      <td>0.178111</td>\n",
       "      <td>-0.034785</td>\n",
       "      <td>0.017742</td>\n",
       "      <td>0.058025</td>\n",
       "      <td>-0.007398</td>\n",
       "      <td>-0.065529</td>\n",
       "      <td>0.032552</td>\n",
       "      <td>0.042687</td>\n",
       "      <td>-0.043456</td>\n",
       "      <td>0.021038</td>\n",
       "    </tr>\n",
       "    <tr>\n",
       "      <th>2830</th>\n",
       "      <td>2c26db523</td>\n",
       "      <td>So what is a solid? Solids are usually hard be...</td>\n",
       "      <td>0.189476</td>\n",
       "      <td>0.535648</td>\n",
       "      <td>167899.769231</td>\n",
       "      <td>29973</td>\n",
       "      <td>890</td>\n",
       "      <td>54</td>\n",
       "      <td>67</td>\n",
       "      <td>6.59</td>\n",
       "      <td>...</td>\n",
       "      <td>0.243949</td>\n",
       "      <td>-0.092056</td>\n",
       "      <td>0.035698</td>\n",
       "      <td>0.098398</td>\n",
       "      <td>-0.083421</td>\n",
       "      <td>-0.077053</td>\n",
       "      <td>-0.049807</td>\n",
       "      <td>-0.041267</td>\n",
       "      <td>-0.061544</td>\n",
       "      <td>0.014794</td>\n",
       "    </tr>\n",
       "    <tr>\n",
       "      <th>2831</th>\n",
       "      <td>cd19e2350</td>\n",
       "      <td>The second state of matter we will discuss is ...</td>\n",
       "      <td>0.255209</td>\n",
       "      <td>0.483866</td>\n",
       "      <td>136464.500000</td>\n",
       "      <td>29975</td>\n",
       "      <td>949</td>\n",
       "      <td>23</td>\n",
       "      <td>45</td>\n",
       "      <td>3.98</td>\n",
       "      <td>...</td>\n",
       "      <td>0.308130</td>\n",
       "      <td>-0.159690</td>\n",
       "      <td>0.036250</td>\n",
       "      <td>0.095158</td>\n",
       "      <td>-0.059636</td>\n",
       "      <td>-0.040559</td>\n",
       "      <td>-0.126866</td>\n",
       "      <td>-0.035962</td>\n",
       "      <td>-0.084961</td>\n",
       "      <td>0.035316</td>\n",
       "    </tr>\n",
       "    <tr>\n",
       "      <th>2832</th>\n",
       "      <td>15e2e9e7a</td>\n",
       "      <td>Solids are shapes that you can actually touch....</td>\n",
       "      <td>-0.215279</td>\n",
       "      <td>0.514128</td>\n",
       "      <td>182009.500000</td>\n",
       "      <td>29985</td>\n",
       "      <td>864</td>\n",
       "      <td>90</td>\n",
       "      <td>73</td>\n",
       "      <td>8.34</td>\n",
       "      <td>...</td>\n",
       "      <td>0.293387</td>\n",
       "      <td>-0.172885</td>\n",
       "      <td>0.037996</td>\n",
       "      <td>0.077498</td>\n",
       "      <td>-0.072176</td>\n",
       "      <td>-0.082686</td>\n",
       "      <td>-0.052898</td>\n",
       "      <td>-0.004124</td>\n",
       "      <td>0.013394</td>\n",
       "      <td>-0.041623</td>\n",
       "    </tr>\n",
       "    <tr>\n",
       "      <th>2833</th>\n",
       "      <td>5b990ba77</td>\n",
       "      <td>Animals are made of many cells. They eat thing...</td>\n",
       "      <td>0.300779</td>\n",
       "      <td>0.512379</td>\n",
       "      <td>168062.461538</td>\n",
       "      <td>29988</td>\n",
       "      <td>885</td>\n",
       "      <td>56</td>\n",
       "      <td>37</td>\n",
       "      <td>9.43</td>\n",
       "      <td>...</td>\n",
       "      <td>0.202025</td>\n",
       "      <td>-0.079237</td>\n",
       "      <td>0.021753</td>\n",
       "      <td>0.080344</td>\n",
       "      <td>-0.101882</td>\n",
       "      <td>-0.093841</td>\n",
       "      <td>0.067850</td>\n",
       "      <td>-0.046024</td>\n",
       "      <td>0.082257</td>\n",
       "      <td>-0.055366</td>\n",
       "    </tr>\n",
       "  </tbody>\n",
       "</table>\n",
       "<p>2834 rows × 21 columns</p>\n",
       "</div>"
      ],
      "text/plain": [
       "             id                                            excerpt    target  \\\n",
       "0     c12129c31  When the young people returned to the ballroom... -0.340259   \n",
       "1     85aa80a4c  All through dinner time, Mrs. Fayre was somewh... -0.315372   \n",
       "2     b69ac6792  As Roger had predicted, the snow departed as q... -0.580118   \n",
       "3     dd1000b26  And outside before the palace a great garden w... -1.054013   \n",
       "4     37c1b32fb  Once upon a time there were Three Bears who li...  0.247197   \n",
       "...         ...                                                ...       ...   \n",
       "2829  25ca8f498  When you think of dinosaurs and where they liv...  1.711390   \n",
       "2830  2c26db523  So what is a solid? Solids are usually hard be...  0.189476   \n",
       "2831  cd19e2350  The second state of matter we will discuss is ...  0.255209   \n",
       "2832  15e2e9e7a  Solids are shapes that you can actually touch.... -0.215279   \n",
       "2833  5b990ba77  Animals are made of many cells. They eat thing...  0.300779   \n",
       "\n",
       "      standard_error  average_word_sen  count_unique_word  passage_length  \\\n",
       "0           0.464009         71.545455                110             992   \n",
       "1           0.480805        150.000000                206             937   \n",
       "2           0.476676        199.636364                288             908   \n",
       "3           0.450007        581.800000                371             909   \n",
       "4           0.510845        690.800000                397             723   \n",
       "...              ...               ...                ...             ...   \n",
       "2829        0.646900     218198.900000              29971             901   \n",
       "2830        0.535648     167899.769231              29973             890   \n",
       "2831        0.483866     136464.500000              29975             949   \n",
       "2832        0.514128     182009.500000              29985             864   \n",
       "2833        0.512379     168062.461538              29988             885   \n",
       "\n",
       "      max_pass_len  min_pass_len  coleman_liau_list  ...         0         1  \\\n",
       "0               92           108               8.06  ...  0.382786 -0.070226   \n",
       "1               17            92               6.78  ...  0.279451  0.190501   \n",
       "2               53            37               7.20  ...  0.273621  0.119080   \n",
       "3               60           205               8.54  ...  0.318070  0.049144   \n",
       "4              171           168               4.83  ...  0.227382  0.011863   \n",
       "...            ...           ...                ...  ...       ...       ...   \n",
       "2829            70            49              10.88  ...  0.178111 -0.034785   \n",
       "2830            54            67               6.59  ...  0.243949 -0.092056   \n",
       "2831            23            45               3.98  ...  0.308130 -0.159690   \n",
       "2832            90            73               8.34  ...  0.293387 -0.172885   \n",
       "2833            56            37               9.43  ...  0.202025 -0.079237   \n",
       "\n",
       "             2         3         4         5         6         7         8  \\\n",
       "0    -0.005849 -0.105997  0.095568 -0.054425  0.059924 -0.028584  0.009778   \n",
       "1     0.257381  0.168774  0.053410  0.008033 -0.083013  0.099538 -0.074491   \n",
       "2     0.060120  0.050572  0.018900 -0.023279 -0.017135  0.011043 -0.053624   \n",
       "3    -0.038582 -0.104894  0.034324 -0.069941 -0.000931 -0.050152 -0.029048   \n",
       "4    -0.002065 -0.029747  0.008820 -0.034770  0.085264 -0.108286 -0.058926   \n",
       "...        ...       ...       ...       ...       ...       ...       ...   \n",
       "2829  0.017742  0.058025 -0.007398 -0.065529  0.032552  0.042687 -0.043456   \n",
       "2830  0.035698  0.098398 -0.083421 -0.077053 -0.049807 -0.041267 -0.061544   \n",
       "2831  0.036250  0.095158 -0.059636 -0.040559 -0.126866 -0.035962 -0.084961   \n",
       "2832  0.037996  0.077498 -0.072176 -0.082686 -0.052898 -0.004124  0.013394   \n",
       "2833  0.021753  0.080344 -0.101882 -0.093841  0.067850 -0.046024  0.082257   \n",
       "\n",
       "             9  \n",
       "0     0.087587  \n",
       "1     0.025380  \n",
       "2     0.054195  \n",
       "3    -0.014829  \n",
       "4     0.088319  \n",
       "...        ...  \n",
       "2829  0.021038  \n",
       "2830  0.014794  \n",
       "2831  0.035316  \n",
       "2832 -0.041623  \n",
       "2833 -0.055366  \n",
       "\n",
       "[2834 rows x 21 columns]"
      ]
     },
     "execution_count": 45,
     "metadata": {},
     "output_type": "execute_result"
    }
   ],
   "source": [
    "sample = pd.merge(summary_df, summary_df_svd, left_index=True, right_index=True)\n",
    "sample"
   ]
  },
  {
   "cell_type": "code",
   "execution_count": 46,
   "id": "entire-incident",
   "metadata": {
    "execution": {
     "iopub.execute_input": "2021-06-09T16:59:37.997369Z",
     "iopub.status.busy": "2021-06-09T16:59:37.996159Z",
     "iopub.status.idle": "2021-06-09T16:59:38.001862Z",
     "shell.execute_reply": "2021-06-09T16:59:38.001219Z",
     "shell.execute_reply.started": "2021-06-09T16:33:48.352484Z"
    },
    "papermill": {
     "duration": 0.089127,
     "end_time": "2021-06-09T16:59:38.002034",
     "exception": false,
     "start_time": "2021-06-09T16:59:37.912907",
     "status": "completed"
    },
    "tags": []
   },
   "outputs": [],
   "source": [
    "X = sample.drop(columns=['id', 'excerpt', 'target'], axis=1)\n",
    "y = sample['target']"
   ]
  },
  {
   "cell_type": "code",
   "execution_count": 47,
   "id": "rapid-slope",
   "metadata": {
    "execution": {
     "iopub.execute_input": "2021-06-09T16:59:38.301539Z",
     "iopub.status.busy": "2021-06-09T16:59:38.300525Z",
     "iopub.status.idle": "2021-06-09T16:59:38.305864Z",
     "shell.execute_reply": "2021-06-09T16:59:38.305034Z",
     "shell.execute_reply.started": "2021-06-09T16:33:48.35975Z"
    },
    "papermill": {
     "duration": 0.164794,
     "end_time": "2021-06-09T16:59:38.306050",
     "exception": false,
     "start_time": "2021-06-09T16:59:38.141256",
     "status": "completed"
    },
    "tags": []
   },
   "outputs": [],
   "source": [
    "from sklearn.model_selection import train_test_split\n",
    "X_train, X_test, y_train, y_test = train_test_split(X, y, test_size=0.3, random_state=42)"
   ]
  },
  {
   "cell_type": "code",
   "execution_count": 48,
   "id": "anticipated-harvard",
   "metadata": {
    "execution": {
     "iopub.execute_input": "2021-06-09T16:59:38.592625Z",
     "iopub.status.busy": "2021-06-09T16:59:38.591469Z",
     "iopub.status.idle": "2021-06-09T16:59:38.594427Z",
     "shell.execute_reply": "2021-06-09T16:59:38.593544Z",
     "shell.execute_reply.started": "2021-06-09T16:33:48.380017Z"
    },
    "papermill": {
     "duration": 0.151353,
     "end_time": "2021-06-09T16:59:38.594626",
     "exception": false,
     "start_time": "2021-06-09T16:59:38.443273",
     "status": "completed"
    },
    "tags": []
   },
   "outputs": [],
   "source": [
    "params = {'max_depth':[2],'num_leaves':[50],'learning_rate':[0.05]}\n",
    "model = GridSearchCV(lgb, params)"
   ]
  },
  {
   "cell_type": "code",
   "execution_count": 49,
   "id": "scheduled-allowance",
   "metadata": {
    "execution": {
     "iopub.execute_input": "2021-06-09T16:59:38.803597Z",
     "iopub.status.busy": "2021-06-09T16:59:38.801757Z",
     "iopub.status.idle": "2021-06-09T16:59:39.100344Z",
     "shell.execute_reply": "2021-06-09T16:59:39.099258Z",
     "shell.execute_reply.started": "2021-06-09T16:33:48.386972Z"
    },
    "papermill": {
     "duration": 0.383875,
     "end_time": "2021-06-09T16:59:39.100534",
     "exception": false,
     "start_time": "2021-06-09T16:59:38.716659",
     "status": "completed"
    },
    "tags": []
   },
   "outputs": [
    {
     "data": {
      "text/plain": [
       "GridSearchCV(estimator=LGBMRegressor(learning_rate=0.05, max_depth=2,\n",
       "                                     num_leaves=50),\n",
       "             param_grid={'learning_rate': [0.05], 'max_depth': [2],\n",
       "                         'num_leaves': [50]})"
      ]
     },
     "execution_count": 49,
     "metadata": {},
     "output_type": "execute_result"
    }
   ],
   "source": [
    "model.fit(X_train, y_train)"
   ]
  },
  {
   "cell_type": "code",
   "execution_count": 50,
   "id": "greatest-kitchen",
   "metadata": {
    "execution": {
     "iopub.execute_input": "2021-06-09T16:59:39.270761Z",
     "iopub.status.busy": "2021-06-09T16:59:39.269875Z",
     "iopub.status.idle": "2021-06-09T16:59:39.283644Z",
     "shell.execute_reply": "2021-06-09T16:59:39.282598Z",
     "shell.execute_reply.started": "2021-06-09T16:33:48.60617Z"
    },
    "papermill": {
     "duration": 0.103038,
     "end_time": "2021-06-09T16:59:39.283788",
     "exception": false,
     "start_time": "2021-06-09T16:59:39.180750",
     "status": "completed"
    },
    "tags": []
   },
   "outputs": [
    {
     "data": {
      "text/plain": [
       "0.5826563367567446"
      ]
     },
     "execution_count": 50,
     "metadata": {},
     "output_type": "execute_result"
    }
   ],
   "source": [
    "model.score(X_train, y_train)"
   ]
  },
  {
   "cell_type": "code",
   "execution_count": 51,
   "id": "outstanding-chick",
   "metadata": {
    "execution": {
     "iopub.execute_input": "2021-06-09T16:59:39.457110Z",
     "iopub.status.busy": "2021-06-09T16:59:39.456266Z",
     "iopub.status.idle": "2021-06-09T16:59:39.469494Z",
     "shell.execute_reply": "2021-06-09T16:59:39.468764Z",
     "shell.execute_reply.started": "2021-06-09T16:33:48.624544Z"
    },
    "papermill": {
     "duration": 0.104756,
     "end_time": "2021-06-09T16:59:39.469644",
     "exception": false,
     "start_time": "2021-06-09T16:59:39.364888",
     "status": "completed"
    },
    "tags": []
   },
   "outputs": [
    {
     "data": {
      "text/plain": [
       "0.5411361265752166"
      ]
     },
     "execution_count": 51,
     "metadata": {},
     "output_type": "execute_result"
    }
   ],
   "source": [
    "model.score(X_test, y_test)"
   ]
  },
  {
   "cell_type": "code",
   "execution_count": 52,
   "id": "composed-marker",
   "metadata": {
    "execution": {
     "iopub.execute_input": "2021-06-09T16:59:39.644577Z",
     "iopub.status.busy": "2021-06-09T16:59:39.643557Z",
     "iopub.status.idle": "2021-06-09T16:59:39.651747Z",
     "shell.execute_reply": "2021-06-09T16:59:39.651112Z",
     "shell.execute_reply.started": "2021-06-09T16:33:48.644008Z"
    },
    "papermill": {
     "duration": 0.098931,
     "end_time": "2021-06-09T16:59:39.651906",
     "exception": false,
     "start_time": "2021-06-09T16:59:39.552975",
     "status": "completed"
    },
    "tags": []
   },
   "outputs": [],
   "source": [
    "pred = model.predict(X_test)"
   ]
  },
  {
   "cell_type": "code",
   "execution_count": 53,
   "id": "lyric-ceramic",
   "metadata": {
    "execution": {
     "iopub.execute_input": "2021-06-09T16:59:39.824417Z",
     "iopub.status.busy": "2021-06-09T16:59:39.822501Z",
     "iopub.status.idle": "2021-06-09T16:59:39.827690Z",
     "shell.execute_reply": "2021-06-09T16:59:39.827129Z",
     "shell.execute_reply.started": "2021-06-09T16:33:48.660653Z"
    },
    "papermill": {
     "duration": 0.093866,
     "end_time": "2021-06-09T16:59:39.827848",
     "exception": false,
     "start_time": "2021-06-09T16:59:39.733982",
     "status": "completed"
    },
    "tags": []
   },
   "outputs": [
    {
     "data": {
      "text/plain": [
       "0.7004420293025162"
      ]
     },
     "execution_count": 53,
     "metadata": {},
     "output_type": "execute_result"
    }
   ],
   "source": [
    "mean_squared_error(y_test, pred, squared=False)"
   ]
  },
  {
   "cell_type": "code",
   "execution_count": 54,
   "id": "tested-schema",
   "metadata": {
    "execution": {
     "iopub.execute_input": "2021-06-09T16:59:40.031893Z",
     "iopub.status.busy": "2021-06-09T16:59:40.020238Z",
     "iopub.status.idle": "2021-06-09T16:59:40.103827Z",
     "shell.execute_reply": "2021-06-09T16:59:40.102883Z",
     "shell.execute_reply.started": "2021-06-09T16:33:48.673059Z"
    },
    "papermill": {
     "duration": 0.19415,
     "end_time": "2021-06-09T16:59:40.104063",
     "exception": false,
     "start_time": "2021-06-09T16:59:39.909913",
     "status": "completed"
    },
    "tags": []
   },
   "outputs": [],
   "source": [
    "test_df = test_df.drop(columns=['url_legal','license'],axis=1)\n",
    "\n",
    "summary_df = test_df\n",
    "\n",
    "no_sentence = []\n",
    "total_word = 0\n",
    "average_word = 0\n",
    "no_words = []\n",
    "average_word_sen = []\n",
    "count_letter = 0\n",
    "total_letter = []\n",
    "all_word = []\n",
    "count_unique_word = []\n",
    "count = 0\n",
    "unique_words = []\n",
    "count_non_stop = []\n",
    "passage_length = []\n",
    "max_pass_len = []\n",
    "min_pass_len = []\n",
    "sent_passage = []\n",
    "\n",
    "for passage in summary_df['excerpt']:\n",
    "    count_sen = len(re.findall(r'\\.', passage))\n",
    "    no_sentence.append(count_sen)\n",
    "    for sen in passage:\n",
    "        count_word = len(re.findall(r'\\w+', sen))\n",
    "        total_word += count_word\n",
    "    average_word = total_word/count_sen\n",
    "    no_words.append(total_word)\n",
    "    average_word_sen.append(average_word)\n",
    "summary_df['no_sen'] = no_sentence\n",
    "summary_df['no_word'] = no_words\n",
    "summary_df['average_word_sen'] = average_word_sen\n",
    "\n",
    "\n",
    "for passage in summary_df['excerpt']:\n",
    "    for word in re.findall(r'\\w+', passage):\n",
    "        all_word.append(word)\n",
    "        count_letter += len(word)\n",
    "    all_word = list(set(all_word))\n",
    "    count_unique_word.append(len(all_word))\n",
    "    total_letter.append(count_letter)\n",
    "summary_df['letter_count'] = count_letter\n",
    "summary_df['count_unique_word'] = count_unique_word\n",
    "\n",
    "stop_words = list(set(stopwords.words('english')))\n",
    "for passage in summary_df['excerpt']:\n",
    "    words = word_tokenize(passage)\n",
    "    for w in words:\n",
    "        if w not in stop_words and w not in unique_words:\n",
    "            count += 1\n",
    "            unique_words.append(w)\n",
    "    count_non_stop.append(count)\n",
    "summary_df['count_non_stop'] = count_non_stop\n",
    "\n",
    "\n",
    "for passage in summary_df['excerpt']:\n",
    "    passage_length.append(len(passage))\n",
    "    sent_length = sent_tokenize(passage)\n",
    "    sent_passage.append(sent_length)\n",
    "    max_pass_len.append(len(max(sent_length)))\n",
    "    min_pass_len.append(len(min(sent_length)))\n",
    "summary_df['passage_length'] = passage_length\n",
    "summary_df['max_pass_len'] = max_pass_len\n",
    "summary_df['min_pass_len'] = min_pass_len\n",
    "\n",
    "coleman_liau_list = []\n",
    "for text in summary_df['excerpt']:\n",
    "    coleman_liau = textstat.coleman_liau_index(text)\n",
    "    coleman_liau_list.append(coleman_liau)\n",
    "    \n",
    "linsear_write_formula_list = []\n",
    "for text in summary_df['excerpt']:\n",
    "    linsear_write_formula = textstat.linsear_write_formula(text)\n",
    "    linsear_write_formula_list.append(linsear_write_formula)\n",
    "    \n",
    "summary_df['coleman_liau_list'] = coleman_liau_list\n",
    "summary_df['linsear_write_formula_list'] = linsear_write_formula_list\n",
    "\n",
    "summary_df_vect = vect.fit_transform(summary_df['excerpt'])\n",
    "summary_df_tfidf = tfidf.fit_transform(summary_df_vect)\n",
    "summary_df_svd = svd.fit_transform(summary_df_tfidf)\n",
    "summary_df_svd = pd.DataFrame(summary_df_svd)\n",
    "\n",
    "test_df = pd.merge(summary_df, summary_df_svd, left_index=True, right_index=True)\n",
    "\n",
    "df_test = test_df.drop(columns=['id', 'excerpt'], axis=1)"
   ]
  },
  {
   "cell_type": "code",
   "execution_count": 55,
   "id": "respective-authentication",
   "metadata": {
    "execution": {
     "iopub.execute_input": "2021-06-09T16:59:40.328967Z",
     "iopub.status.busy": "2021-06-09T16:59:40.328029Z",
     "iopub.status.idle": "2021-06-09T16:59:40.336015Z",
     "shell.execute_reply": "2021-06-09T16:59:40.335352Z",
     "shell.execute_reply.started": "2021-06-09T16:33:48.785972Z"
    },
    "papermill": {
     "duration": 0.096593,
     "end_time": "2021-06-09T16:59:40.336190",
     "exception": false,
     "start_time": "2021-06-09T16:59:40.239597",
     "status": "completed"
    },
    "tags": []
   },
   "outputs": [],
   "source": [
    "pred = model.predict(df_test)"
   ]
  },
  {
   "cell_type": "code",
   "execution_count": 56,
   "id": "touched-direction",
   "metadata": {
    "execution": {
     "iopub.execute_input": "2021-06-09T16:59:40.509548Z",
     "iopub.status.busy": "2021-06-09T16:59:40.508360Z",
     "iopub.status.idle": "2021-06-09T16:59:40.513509Z",
     "shell.execute_reply": "2021-06-09T16:59:40.513019Z",
     "shell.execute_reply.started": "2021-06-09T16:33:48.835642Z"
    },
    "papermill": {
     "duration": 0.096238,
     "end_time": "2021-06-09T16:59:40.513712",
     "exception": false,
     "start_time": "2021-06-09T16:59:40.417474",
     "status": "completed"
    },
    "tags": []
   },
   "outputs": [
    {
     "data": {
      "text/html": [
       "<div>\n",
       "<style scoped>\n",
       "    .dataframe tbody tr th:only-of-type {\n",
       "        vertical-align: middle;\n",
       "    }\n",
       "\n",
       "    .dataframe tbody tr th {\n",
       "        vertical-align: top;\n",
       "    }\n",
       "\n",
       "    .dataframe thead th {\n",
       "        text-align: right;\n",
       "    }\n",
       "</style>\n",
       "<table border=\"1\" class=\"dataframe\">\n",
       "  <thead>\n",
       "    <tr style=\"text-align: right;\">\n",
       "      <th></th>\n",
       "      <th>target</th>\n",
       "    </tr>\n",
       "  </thead>\n",
       "  <tbody>\n",
       "    <tr>\n",
       "      <th>0</th>\n",
       "      <td>-1.597374</td>\n",
       "    </tr>\n",
       "    <tr>\n",
       "      <th>1</th>\n",
       "      <td>-0.522023</td>\n",
       "    </tr>\n",
       "    <tr>\n",
       "      <th>2</th>\n",
       "      <td>-0.762773</td>\n",
       "    </tr>\n",
       "    <tr>\n",
       "      <th>3</th>\n",
       "      <td>-1.281702</td>\n",
       "    </tr>\n",
       "    <tr>\n",
       "      <th>4</th>\n",
       "      <td>-1.321570</td>\n",
       "    </tr>\n",
       "    <tr>\n",
       "      <th>5</th>\n",
       "      <td>-1.549669</td>\n",
       "    </tr>\n",
       "    <tr>\n",
       "      <th>6</th>\n",
       "      <td>-0.522023</td>\n",
       "    </tr>\n",
       "  </tbody>\n",
       "</table>\n",
       "</div>"
      ],
      "text/plain": [
       "     target\n",
       "0 -1.597374\n",
       "1 -0.522023\n",
       "2 -0.762773\n",
       "3 -1.281702\n",
       "4 -1.321570\n",
       "5 -1.549669\n",
       "6 -0.522023"
      ]
     },
     "execution_count": 56,
     "metadata": {},
     "output_type": "execute_result"
    }
   ],
   "source": [
    "predictions = pd.DataFrame(pred, columns=['target'])\n",
    "predictions"
   ]
  },
  {
   "cell_type": "code",
   "execution_count": 57,
   "id": "fixed-chase",
   "metadata": {
    "execution": {
     "iopub.execute_input": "2021-06-09T16:59:40.690210Z",
     "iopub.status.busy": "2021-06-09T16:59:40.689060Z",
     "iopub.status.idle": "2021-06-09T16:59:40.694310Z",
     "shell.execute_reply": "2021-06-09T16:59:40.693766Z",
     "shell.execute_reply.started": "2021-06-09T16:33:48.85774Z"
    },
    "papermill": {
     "duration": 0.099314,
     "end_time": "2021-06-09T16:59:40.694452",
     "exception": false,
     "start_time": "2021-06-09T16:59:40.595138",
     "status": "completed"
    },
    "tags": []
   },
   "outputs": [
    {
     "data": {
      "text/html": [
       "<div>\n",
       "<style scoped>\n",
       "    .dataframe tbody tr th:only-of-type {\n",
       "        vertical-align: middle;\n",
       "    }\n",
       "\n",
       "    .dataframe tbody tr th {\n",
       "        vertical-align: top;\n",
       "    }\n",
       "\n",
       "    .dataframe thead th {\n",
       "        text-align: right;\n",
       "    }\n",
       "</style>\n",
       "<table border=\"1\" class=\"dataframe\">\n",
       "  <thead>\n",
       "    <tr style=\"text-align: right;\">\n",
       "      <th></th>\n",
       "      <th>id</th>\n",
       "    </tr>\n",
       "  </thead>\n",
       "  <tbody>\n",
       "    <tr>\n",
       "      <th>0</th>\n",
       "      <td>c0f722661</td>\n",
       "    </tr>\n",
       "    <tr>\n",
       "      <th>1</th>\n",
       "      <td>f0953f0a5</td>\n",
       "    </tr>\n",
       "    <tr>\n",
       "      <th>2</th>\n",
       "      <td>0df072751</td>\n",
       "    </tr>\n",
       "    <tr>\n",
       "      <th>3</th>\n",
       "      <td>04caf4e0c</td>\n",
       "    </tr>\n",
       "    <tr>\n",
       "      <th>4</th>\n",
       "      <td>0e63f8bea</td>\n",
       "    </tr>\n",
       "    <tr>\n",
       "      <th>5</th>\n",
       "      <td>12537fe78</td>\n",
       "    </tr>\n",
       "    <tr>\n",
       "      <th>6</th>\n",
       "      <td>965e592c0</td>\n",
       "    </tr>\n",
       "  </tbody>\n",
       "</table>\n",
       "</div>"
      ],
      "text/plain": [
       "          id\n",
       "0  c0f722661\n",
       "1  f0953f0a5\n",
       "2  0df072751\n",
       "3  04caf4e0c\n",
       "4  0e63f8bea\n",
       "5  12537fe78\n",
       "6  965e592c0"
      ]
     },
     "execution_count": 57,
     "metadata": {},
     "output_type": "execute_result"
    }
   ],
   "source": [
    "submission = pd.DataFrame(test_df['id'], columns=['id'])\n",
    "submission"
   ]
  },
  {
   "cell_type": "code",
   "execution_count": 58,
   "id": "boxed-pakistan",
   "metadata": {
    "execution": {
     "iopub.execute_input": "2021-06-09T16:59:40.868366Z",
     "iopub.status.busy": "2021-06-09T16:59:40.867508Z",
     "iopub.status.idle": "2021-06-09T16:59:40.871572Z",
     "shell.execute_reply": "2021-06-09T16:59:40.870982Z",
     "shell.execute_reply.started": "2021-06-09T16:33:48.87445Z"
    },
    "papermill": {
     "duration": 0.095403,
     "end_time": "2021-06-09T16:59:40.871694",
     "exception": false,
     "start_time": "2021-06-09T16:59:40.776291",
     "status": "completed"
    },
    "tags": []
   },
   "outputs": [],
   "source": [
    "submission = pd.merge(submission,predictions, right_index=True, left_index=True)"
   ]
  },
  {
   "cell_type": "code",
   "execution_count": 59,
   "id": "mobile-practice",
   "metadata": {
    "execution": {
     "iopub.execute_input": "2021-06-09T16:59:41.048828Z",
     "iopub.status.busy": "2021-06-09T16:59:41.047646Z",
     "iopub.status.idle": "2021-06-09T16:59:41.053130Z",
     "shell.execute_reply": "2021-06-09T16:59:41.052593Z",
     "shell.execute_reply.started": "2021-06-09T16:33:48.886705Z"
    },
    "papermill": {
     "duration": 0.098616,
     "end_time": "2021-06-09T16:59:41.053257",
     "exception": false,
     "start_time": "2021-06-09T16:59:40.954641",
     "status": "completed"
    },
    "tags": []
   },
   "outputs": [
    {
     "data": {
      "text/html": [
       "<div>\n",
       "<style scoped>\n",
       "    .dataframe tbody tr th:only-of-type {\n",
       "        vertical-align: middle;\n",
       "    }\n",
       "\n",
       "    .dataframe tbody tr th {\n",
       "        vertical-align: top;\n",
       "    }\n",
       "\n",
       "    .dataframe thead th {\n",
       "        text-align: right;\n",
       "    }\n",
       "</style>\n",
       "<table border=\"1\" class=\"dataframe\">\n",
       "  <thead>\n",
       "    <tr style=\"text-align: right;\">\n",
       "      <th></th>\n",
       "      <th>id</th>\n",
       "      <th>target</th>\n",
       "    </tr>\n",
       "  </thead>\n",
       "  <tbody>\n",
       "    <tr>\n",
       "      <th>0</th>\n",
       "      <td>c0f722661</td>\n",
       "      <td>-1.597374</td>\n",
       "    </tr>\n",
       "    <tr>\n",
       "      <th>1</th>\n",
       "      <td>f0953f0a5</td>\n",
       "      <td>-0.522023</td>\n",
       "    </tr>\n",
       "    <tr>\n",
       "      <th>2</th>\n",
       "      <td>0df072751</td>\n",
       "      <td>-0.762773</td>\n",
       "    </tr>\n",
       "    <tr>\n",
       "      <th>3</th>\n",
       "      <td>04caf4e0c</td>\n",
       "      <td>-1.281702</td>\n",
       "    </tr>\n",
       "    <tr>\n",
       "      <th>4</th>\n",
       "      <td>0e63f8bea</td>\n",
       "      <td>-1.321570</td>\n",
       "    </tr>\n",
       "    <tr>\n",
       "      <th>5</th>\n",
       "      <td>12537fe78</td>\n",
       "      <td>-1.549669</td>\n",
       "    </tr>\n",
       "    <tr>\n",
       "      <th>6</th>\n",
       "      <td>965e592c0</td>\n",
       "      <td>-0.522023</td>\n",
       "    </tr>\n",
       "  </tbody>\n",
       "</table>\n",
       "</div>"
      ],
      "text/plain": [
       "          id    target\n",
       "0  c0f722661 -1.597374\n",
       "1  f0953f0a5 -0.522023\n",
       "2  0df072751 -0.762773\n",
       "3  04caf4e0c -1.281702\n",
       "4  0e63f8bea -1.321570\n",
       "5  12537fe78 -1.549669\n",
       "6  965e592c0 -0.522023"
      ]
     },
     "execution_count": 59,
     "metadata": {},
     "output_type": "execute_result"
    }
   ],
   "source": [
    "submission"
   ]
  },
  {
   "cell_type": "code",
   "execution_count": 60,
   "id": "unable-radio",
   "metadata": {
    "execution": {
     "iopub.execute_input": "2021-06-09T16:59:41.227101Z",
     "iopub.status.busy": "2021-06-09T16:59:41.226147Z",
     "iopub.status.idle": "2021-06-09T16:59:41.388529Z",
     "shell.execute_reply": "2021-06-09T16:59:41.386998Z",
     "shell.execute_reply.started": "2021-06-09T16:33:48.904888Z"
    },
    "papermill": {
     "duration": 0.252434,
     "end_time": "2021-06-09T16:59:41.388669",
     "exception": false,
     "start_time": "2021-06-09T16:59:41.136235",
     "status": "completed"
    },
    "tags": []
   },
   "outputs": [],
   "source": [
    "submission.to_csv(\"submission.csv\",index=False)"
   ]
  },
  {
   "cell_type": "code",
   "execution_count": null,
   "id": "touched-brief",
   "metadata": {
    "papermill": {
     "duration": 0.082765,
     "end_time": "2021-06-09T16:59:41.557172",
     "exception": false,
     "start_time": "2021-06-09T16:59:41.474407",
     "status": "completed"
    },
    "tags": []
   },
   "outputs": [],
   "source": []
  }
 ],
 "metadata": {
  "kernelspec": {
   "display_name": "Python 3",
   "language": "python",
   "name": "python3"
  },
  "language_info": {
   "codemirror_mode": {
    "name": "ipython",
    "version": 3
   },
   "file_extension": ".py",
   "mimetype": "text/x-python",
   "name": "python",
   "nbconvert_exporter": "python",
   "pygments_lexer": "ipython3",
   "version": "3.7.9"
  },
  "papermill": {
   "default_parameters": {},
   "duration": 169.373209,
   "end_time": "2021-06-09T16:59:43.258254",
   "environment_variables": {},
   "exception": null,
   "input_path": "__notebook__.ipynb",
   "output_path": "__notebook__.ipynb",
   "parameters": {},
   "start_time": "2021-06-09T16:56:53.885045",
   "version": "2.3.2"
  }
 },
 "nbformat": 4,
 "nbformat_minor": 5
}
